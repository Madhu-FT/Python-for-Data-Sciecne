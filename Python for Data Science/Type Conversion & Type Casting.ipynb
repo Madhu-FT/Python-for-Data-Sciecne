{
 "cells": [
  {
   "cell_type": "markdown",
   "id": "3663bc66",
   "metadata": {},
   "source": [
    "\n",
    "\n",
    "___\n",
    "\n",
    "<a href='https://fingertips.co.in/'><img src='ft_logo_new.png'/></a>\n",
    "___\n",
    "<center><em>Content Copyright by Fingertips Data Intelligence Solutions</em></center>"
   ]
  },
  {
   "cell_type": "markdown",
   "id": "046e94ea",
   "metadata": {},
   "source": [
    "# Type Conversion and Type Casting  "
   ]
  },
  {
   "cell_type": "markdown",
   "id": "ad245d12",
   "metadata": {},
   "source": [
    "## Agenda!\n",
    "1. Type conversion\n",
    "2. Type casting"
   ]
  },
  {
   "cell_type": "markdown",
   "id": "061e4617",
   "metadata": {},
   "source": [
    "### Type Conversion\n",
    "Data type is automatically converted into another data type by compiler. Type conversion can be applied to compatible data types only. Here destination data type can't be smaller than source data type, that's why it's called widening conversation."
   ]
  },
  {
   "cell_type": "code",
   "execution_count": 184,
   "id": "f1f0274a",
   "metadata": {},
   "outputs": [
    {
     "data": {
      "text/plain": [
       "3.0"
      ]
     },
     "execution_count": 184,
     "metadata": {},
     "output_type": "execute_result"
    }
   ],
   "source": [
    "#Upcasing(converts overall result into higher memory allocatation variable type)\n",
    "1+2.0"
   ]
  },
  {
   "cell_type": "code",
   "execution_count": 185,
   "id": "73ddf56f",
   "metadata": {},
   "outputs": [
    {
     "data": {
      "text/plain": [
       "'pythonpythonpython'"
      ]
     },
     "execution_count": 185,
     "metadata": {},
     "output_type": "execute_result"
    }
   ],
   "source": [
    "#Concatenation\n",
    "'python'+'python'+'python'"
   ]
  },
  {
   "cell_type": "code",
   "execution_count": 186,
   "id": "1a013491",
   "metadata": {},
   "outputs": [
    {
     "data": {
      "text/plain": [
       "'pythonpythonpython'"
      ]
     },
     "execution_count": 186,
     "metadata": {},
     "output_type": "execute_result"
    }
   ],
   "source": [
    "#same result\n",
    "'python'*3"
   ]
  },
  {
   "cell_type": "markdown",
   "id": "60d6b3ca",
   "metadata": {},
   "source": [
    "### Type Castings \n",
    "Data type is converted into another data type by programmer using casting operator. Type casting can be applied to compatible as well as non-compatible data types. Here destination data type can be smaller than source data type, that's why it's called narrowing conversation."
   ]
  },
  {
   "cell_type": "code",
   "execution_count": 187,
   "id": "0a5fdf83",
   "metadata": {},
   "outputs": [
    {
     "data": {
      "text/plain": [
       "'426coding'"
      ]
     },
     "execution_count": 187,
     "metadata": {},
     "output_type": "execute_result"
    }
   ],
   "source": [
    "#String concatenation\n",
    "'426'+'coding'"
   ]
  },
  {
   "cell_type": "code",
   "execution_count": 188,
   "id": "4433c838",
   "metadata": {},
   "outputs": [
    {
     "data": {
      "text/plain": [
       "'426coding'"
      ]
     },
     "execution_count": 188,
     "metadata": {},
     "output_type": "execute_result"
    }
   ],
   "source": [
    "str(426)+'coding'"
   ]
  },
  {
   "cell_type": "code",
   "execution_count": 189,
   "id": "73dd9f52",
   "metadata": {},
   "outputs": [
    {
     "data": {
      "text/plain": [
       "20"
      ]
     },
     "execution_count": 189,
     "metadata": {},
     "output_type": "execute_result"
    }
   ],
   "source": [
    "#float to int\n",
    "int(20.7)"
   ]
  },
  {
   "cell_type": "code",
   "execution_count": 190,
   "id": "ee2e2440",
   "metadata": {},
   "outputs": [
    {
     "data": {
      "text/plain": [
       "7.0"
      ]
     },
     "execution_count": 190,
     "metadata": {},
     "output_type": "execute_result"
    }
   ],
   "source": [
    "#int to float\n",
    "float(7)"
   ]
  },
  {
   "cell_type": "code",
   "execution_count": 191,
   "id": "b81ee7bb",
   "metadata": {},
   "outputs": [
    {
     "ename": "ValueError",
     "evalue": "could not convert string to float: 'python'",
     "output_type": "error",
     "traceback": [
      "\u001b[1;31m---------------------------------------------------------------------------\u001b[0m",
      "\u001b[1;31mValueError\u001b[0m                                Traceback (most recent call last)",
      "\u001b[1;32m~\\AppData\\Local\\Temp\\ipykernel_5636\\4124512400.py\u001b[0m in \u001b[0;36m<module>\u001b[1;34m\u001b[0m\n\u001b[0;32m      1\u001b[0m \u001b[1;31m#str to float\u001b[0m\u001b[1;33m\u001b[0m\u001b[1;33m\u001b[0m\u001b[0m\n\u001b[1;32m----> 2\u001b[1;33m \u001b[0mfloat\u001b[0m\u001b[1;33m(\u001b[0m\u001b[1;34m'python'\u001b[0m\u001b[1;33m)\u001b[0m\u001b[1;33m\u001b[0m\u001b[1;33m\u001b[0m\u001b[0m\n\u001b[0m\u001b[0;32m      3\u001b[0m \u001b[1;31m#ValueError: could not convert string to float: 'python'\u001b[0m\u001b[1;33m\u001b[0m\u001b[1;33m\u001b[0m\u001b[0m\n",
      "\u001b[1;31mValueError\u001b[0m: could not convert string to float: 'python'"
     ]
    }
   ],
   "source": [
    "#str to float\n",
    "float('python')\n",
    "#ValueError: could not convert string to float: 'python'"
   ]
  },
  {
   "cell_type": "code",
   "execution_count": 192,
   "id": "825b7c72",
   "metadata": {},
   "outputs": [
    {
     "data": {
      "text/plain": [
       "'79.7'"
      ]
     },
     "execution_count": 192,
     "metadata": {},
     "output_type": "execute_result"
    }
   ],
   "source": [
    "#float to str\n",
    "str(79.7)"
   ]
  },
  {
   "cell_type": "code",
   "execution_count": 193,
   "id": "db1120c4",
   "metadata": {},
   "outputs": [
    {
     "data": {
      "text/plain": [
       "'8'"
      ]
     },
     "execution_count": 193,
     "metadata": {},
     "output_type": "execute_result"
    }
   ],
   "source": [
    "#int to str\n",
    "str(8)"
   ]
  },
  {
   "cell_type": "markdown",
   "id": "d616ca86",
   "metadata": {},
   "source": [
    "**<<<<<<<<<<<<<<<<<<<<<<<<<<<<<<<<< END OF DOCUMENT >>>>>>>>>>>>>>>>>>>>>>>>>>>>>>>>>>>>>>>>>>**"
   ]
  }
 ],
 "metadata": {
  "kernelspec": {
   "display_name": "Python 3 (ipykernel)",
   "language": "python",
   "name": "python3"
  },
  "language_info": {
   "codemirror_mode": {
    "name": "ipython",
    "version": 3
   },
   "file_extension": ".py",
   "mimetype": "text/x-python",
   "name": "python",
   "nbconvert_exporter": "python",
   "pygments_lexer": "ipython3",
   "version": "3.9.13"
  }
 },
 "nbformat": 4,
 "nbformat_minor": 5
}
