{
 "cells": [
  {
   "cell_type": "markdown",
   "id": "e3cb6f73",
   "metadata": {},
   "source": [
    "\n",
    "\n",
    "___\n",
    "\n",
    "<a href='https://fingertips.co.in/'><img src='ft_logo_new.png'/></a>\n",
    "___\n",
    "<center><em>Content Copyright by Fingertips Data Intelligence Solutions</em></center>"
   ]
  },
  {
   "cell_type": "markdown",
   "id": "c0d0df85",
   "metadata": {
    "collapsed": true
   },
   "source": [
    "# Object Oriented Programming in Python"
   ]
  },
  {
   "cell_type": "markdown",
   "id": "c0f16d2a",
   "metadata": {},
   "source": [
    "## Agenda!\n",
    "\n",
    "* Objects\n",
    "* class\n",
    "* Instance variables (attributes & methods)\n",
    "* Difference between function & method\n",
    "* Static or class variable\n",
    "* 4-pillars of OOPs:\n",
    "* Inheritance\n",
    "* Abstraction\n",
    "* Encapsulation\n",
    "* Polymorphism\n",
    "* Special Methods for classes"
   ]
  },
  {
   "cell_type": "code",
   "execution_count": 1,
   "id": "0a1b76de",
   "metadata": {},
   "outputs": [],
   "source": [
    "#So, we will start the lesson by remembering about the Basic Python Objects. For example:\n",
    "#List\n",
    "\n",
    "l = [32, 123, 'python', 90.98]"
   ]
  },
  {
   "cell_type": "code",
   "execution_count": 2,
   "id": "85341b68",
   "metadata": {
    "scrolled": true
   },
   "outputs": [
    {
     "name": "stdout",
     "output_type": "stream",
     "text": [
      "[32, 123, 'python', 90.98, 56]\n"
     ]
    }
   ],
   "source": [
    "# call methods on a list\n",
    "l.append(56)\n",
    "print(l)"
   ]
  },
  {
   "cell_type": "code",
   "execution_count": 3,
   "id": "169dce8e",
   "metadata": {},
   "outputs": [
    {
     "data": {
      "text/plain": [
       "list"
      ]
     },
     "execution_count": 3,
     "metadata": {},
     "output_type": "execute_result"
    }
   ],
   "source": [
    "type(l)"
   ]
  },
  {
   "cell_type": "code",
   "execution_count": 4,
   "id": "7198bee6",
   "metadata": {},
   "outputs": [
    {
     "name": "stdout",
     "output_type": "stream",
     "text": [
      "<class 'int'>\n",
      "<class 'list'>\n",
      "<class 'tuple'>\n",
      "<class 'dict'>\n"
     ]
    }
   ],
   "source": [
    "print(type(1))\n",
    "print(type([]))\n",
    "print(type(()))\n",
    "print(type({}))"
   ]
  },
  {
   "cell_type": "markdown",
   "id": "32e1c136",
   "metadata": {},
   "source": [
    "### Class\n",
    "1. Core feature of OOP is, we can create our own classes in Python.\n",
    "2. Now, we will create it.\n",
    "3. The class is a blueprint that defines the nature of a future object. "
   ]
  },
  {
   "cell_type": "code",
   "execution_count": 5,
   "id": "09f9004b",
   "metadata": {},
   "outputs": [],
   "source": [
    "# create a class\n",
    "class BankAccount:\n",
    "    pass"
   ]
  },
  {
   "cell_type": "markdown",
   "id": "78864be8",
   "metadata": {},
   "source": [
    "### Object or instance of a class\n",
    "1. In Python, **everything is an object**.\n",
    "2. From classes we can construct instances called objects. An instance is a specific object created from a particular class. \n",
    "3. An object in OOP is like a real-world thing or an idea. It can be anything, like a person, a car, or a book.\n"
   ]
  },
  {
   "cell_type": "code",
   "execution_count": 6,
   "id": "c1477244",
   "metadata": {
    "scrolled": false
   },
   "outputs": [
    {
     "name": "stdout",
     "output_type": "stream",
     "text": [
      "<class '__main__.BankAccount'>\n"
     ]
    }
   ],
   "source": [
    "# Instance of class\n",
    "x = BankAccount()\n",
    "\n",
    "print(type(x))"
   ]
  },
  {
   "cell_type": "markdown",
   "id": "d8fbb997",
   "metadata": {},
   "source": [
    "### Instance or object variables-->Attribute(data or property, noun) & Method(function or behaviour, verb)\n",
    "Inside of the class we currently just have \"pass\". But we can define object attributes and methods."
   ]
  },
  {
   "cell_type": "markdown",
   "id": "02899f8b",
   "metadata": {},
   "source": [
    "### Attribute\n",
    "An **attribute** is a characteristic of an object.\n",
    "\n",
    "1. account_number: Represents the account number associated with the bank account.\n",
    "2. account_holder: Represents the account holder's name.\n",
    "3. balance: Represents the current balance in the bank account."
   ]
  },
  {
   "cell_type": "code",
   "execution_count": 7,
   "id": "6d780e7f",
   "metadata": {},
   "outputs": [],
   "source": [
    "class BankAccount:\n",
    "    def __init__(self, account_number, account_holder, balance):\n",
    "        self.account_number = account_number\n",
    "        self.account_holder = account_holder\n",
    "        self.balance = balance"
   ]
  },
  {
   "cell_type": "markdown",
   "id": "96d8099e",
   "metadata": {},
   "source": [
    "1. __init__:\n",
    "__init__ is a special method (also known as a constructor) in a class that gets called when you create an instance (object) of that class. It's used to initialize the attributes of the object. The __init__ method is optional, but it's commonly used to set up the initial state of the object. It's defined with the first parameter named self, which refers to the instance being created.\n",
    "   \n",
    "There is a special method called:\n",
    "\n",
    "    __init__()\n",
    "\n",
    "This method is used to initialize the attributes of an object. It is called automatically right after the object has been created.\n",
    "\n",
    "2. self:\n",
    "In Python, self refers to the instance of the class. When you create an instance of a class and call a method on that instance, Python automatically passes the instance itself as the first argument to the method. By convention, this first parameter is named self. It allows you to access and manipulate the attributes and methods of the instance within the class methods.\n",
    "\n",
    "The syntax for creating an attribute is:\n",
    "    \n",
    "    self.attribute = something\n",
    "    \n",
    "**self**: self. notation to reference attributes of the class within the method calls. Review how the code above works and try creating your own method."
   ]
  },
  {
   "cell_type": "markdown",
   "id": "ae1f8a49",
   "metadata": {},
   "source": [
    "### Method\n",
    "1. A **method** is an operation we can perform with the object.\n",
    "2. Methods are functions defined inside the body of a class. They are used to perform operations with the attributes of our objects. Methods are a key concept of the OOP paradigm. They are essential to dividing responsibilities in programming, especially in large applications.\n",
    "\n",
    "Methods:\n",
    "\n",
    "1. __init__(self, account_number, account_holder, balance): This is the constructor method that initializes the attributes of the BankAccount object when it is created.\n",
    "\n",
    "2. deposit(self, amount): This method takes an amount as a parameter and adds it to the current balance of the account. It then prints a message indicating the deposit and the updated balance.\n",
    "\n",
    "3. withdraw(self, amount): This method takes an amount as a parameter and checks if the current balance is sufficient for the withdrawal. If it is, it subtracts the withdrawal amount from the balance and prints a message indicating the withdrawal and the updated balance. If the balance is insufficient, it prints an \"Insufficient funds!\" message.\n",
    "\n",
    "4. get_balance(self): This method returns the current balance of the account."
   ]
  },
  {
   "cell_type": "markdown",
   "id": "fa1684e1",
   "metadata": {},
   "source": [
    "#### Difference between function & method:\n",
    "In programming, both functions and methods are used to define blocks of code that perform specific tasks. However, there are differences between the two concepts, especially in the context of object-oriented programming.\n",
    "\n",
    "1. Function:\n",
    "A function is a block of reusable code that performs a specific task. It can accept input parameters (arguments), process them, and return a result. Functions can be defined outside of classes and are standalone units of code that can be called from anywhere in the program. Functions are not tied to any specific object or instance.\n",
    "\n",
    "2. Method:\n",
    "A method is similar to a function, but it's associated with an object or a class. Methods are functions that are defined within the scope of a class and can access and manipulate the attributes and other methods of that class. They are typically called on instances of the class. The first parameter of a method is conventionally named self, which refers to the instance on which the method is being called."
   ]
  },
  {
   "cell_type": "code",
   "execution_count": 9,
   "id": "d3047e24",
   "metadata": {},
   "outputs": [
    {
     "data": {
      "text/plain": [
       "9"
      ]
     },
     "execution_count": 9,
     "metadata": {},
     "output_type": "execute_result"
    }
   ],
   "source": [
    "#Example of a function:\n",
    "\n",
    "def add(a, b):\n",
    "    return a + b\n",
    "\n",
    "add(4,5)"
   ]
  },
  {
   "cell_type": "code",
   "execution_count": 10,
   "id": "f66f595f",
   "metadata": {},
   "outputs": [],
   "source": [
    "#method\n",
    "class BankAccount:\n",
    "    def __init__(self, account_number, account_holder, balance):\n",
    "        self.account_number = account_number\n",
    "        self.account_holder = account_holder\n",
    "        self.balance = balance\n",
    "\n",
    "    def deposit(self, amount):\n",
    "        self.balance += amount\n",
    "        print(f\"Deposited ${amount}. Current balance: ${self.balance}\")\n",
    "\n",
    "    def withdraw(self, amount):\n",
    "        if self.balance >= amount:\n",
    "            self.balance -= amount\n",
    "            print(f\"Withdrew ${amount}. Current balance: ${self.balance}\")\n",
    "        else:\n",
    "            print(\"Insufficient funds!\")\n",
    "\n",
    "    def get_balance(self):\n",
    "        return self.balance\n"
   ]
  },
  {
   "cell_type": "markdown",
   "id": "acab1482",
   "metadata": {},
   "source": [
    "### Creating instance of this class"
   ]
  },
  {
   "cell_type": "code",
   "execution_count": 11,
   "id": "73aa0e53",
   "metadata": {},
   "outputs": [
    {
     "name": "stdout",
     "output_type": "stream",
     "text": [
      "Deposited $500. Current balance: $1500.0\n",
      "Withdrew $200. Current balance: $1300.0\n",
      "Insufficient funds!\n",
      "Account holder: John Doe\n",
      "Account balance: $1300.0\n"
     ]
    }
   ],
   "source": [
    "# Create a BankAccount object\n",
    "account1 = BankAccount(\"123456789\", \"John Doe\", 1000.0)\n",
    "\n",
    "# Perform some operations\n",
    "account1.deposit(500)\n",
    "account1.withdraw(200)\n",
    "account1.withdraw(1500)\n",
    "\n",
    "print(f\"Account holder: {account1.account_holder}\")\n",
    "print(f\"Account balance: ${account1.get_balance()}\")"
   ]
  },
  {
   "cell_type": "markdown",
   "id": "19aa79cb",
   "metadata": {},
   "source": [
    "**Now we have created instance, we can then access the attributes.**"
   ]
  },
  {
   "cell_type": "code",
   "execution_count": 12,
   "id": "56c7e631",
   "metadata": {},
   "outputs": [
    {
     "data": {
      "text/plain": [
       "'123456789'"
      ]
     },
     "execution_count": 12,
     "metadata": {},
     "output_type": "execute_result"
    }
   ],
   "source": [
    "account1.account_number"
   ]
  },
  {
   "cell_type": "code",
   "execution_count": 13,
   "id": "7a24508b",
   "metadata": {},
   "outputs": [
    {
     "data": {
      "text/plain": [
       "'John Doe'"
      ]
     },
     "execution_count": 13,
     "metadata": {},
     "output_type": "execute_result"
    }
   ],
   "source": [
    "account1.account_holder"
   ]
  },
  {
   "cell_type": "markdown",
   "id": "8610f9c0",
   "metadata": {},
   "source": [
    "**We can also access the methods.**"
   ]
  },
  {
   "cell_type": "code",
   "execution_count": 14,
   "id": "125e3be3",
   "metadata": {},
   "outputs": [
    {
     "name": "stdout",
     "output_type": "stream",
     "text": [
      "Account holder 2: Jane Smith\n",
      "Account balance 2: $1500.0\n",
      "Deposited $1000. Current balance: $2500.0\n",
      "Withdrew $800. Current balance: $1700.0\n",
      "Withdrew $1200. Current balance: $500.0\n"
     ]
    }
   ],
   "source": [
    "# Create another BankAccount objects\n",
    "account2 = BankAccount(\"987654321\", \"Jane Smith\", 1500.0)\n",
    "\n",
    "print(f\"Account holder 2: {account2.account_holder}\")\n",
    "print(f\"Account balance 2: ${account2.get_balance()}\")\n",
    "\n",
    "\n",
    "# Perform operations on the second account\n",
    "account2.deposit(1000)\n",
    "account2.withdraw(800)\n",
    "account2.withdraw(1200)\n"
   ]
  },
  {
   "cell_type": "markdown",
   "id": "e712ec04",
   "metadata": {},
   "source": [
    "**Note how we don't have any parentheses after accout_holder, this is because it is an attribute and doesn't take any arguments.**"
   ]
  },
  {
   "cell_type": "markdown",
   "id": "03b10f0b",
   "metadata": {},
   "source": [
    "### Static or Class variables (attributes & methods)\n",
    "In Python there are also **class attributes**. These are same for any instance of the class. "
   ]
  },
  {
   "cell_type": "code",
   "execution_count": 15,
   "id": "22424aee",
   "metadata": {},
   "outputs": [],
   "source": [
    "class ItsMyBank:\n",
    "    # Class attribute to keep track of the bank's name\n",
    "    bank_name = \"MyBank\"\n",
    "\n",
    "    def __init__(self, account_number, account_holder, balance):\n",
    "        self.account_number = account_number\n",
    "        self.account_holder = account_holder\n",
    "        self.balance = balance\n",
    "\n",
    "    def deposit(self, amount):\n",
    "        self.balance += amount\n",
    "        print(f\"Deposited ${amount}. Current balance: ${self.balance}\")\n",
    "\n",
    "    def withdraw(self, amount):\n",
    "        if self.balance >= amount:\n",
    "            self.balance -= amount\n"
   ]
  },
  {
   "cell_type": "code",
   "execution_count": 16,
   "id": "d37b20b6",
   "metadata": {},
   "outputs": [],
   "source": [
    "b1 = ItsMyBank(3123212312, 'Jenny Roy', '$5342')"
   ]
  },
  {
   "cell_type": "code",
   "execution_count": 17,
   "id": "834a1933",
   "metadata": {},
   "outputs": [
    {
     "data": {
      "text/plain": [
       "'MyBank'"
      ]
     },
     "execution_count": 17,
     "metadata": {},
     "output_type": "execute_result"
    }
   ],
   "source": [
    "#call-->class.attribute\n",
    "ItsMyBank.bank_name"
   ]
  },
  {
   "cell_type": "code",
   "execution_count": 18,
   "id": "75ec54bb",
   "metadata": {},
   "outputs": [
    {
     "data": {
      "text/plain": [
       "'MyBank'"
      ]
     },
     "execution_count": 18,
     "metadata": {},
     "output_type": "execute_result"
    }
   ],
   "source": [
    "#same for all the objects\n",
    "b1.bank_name"
   ]
  },
  {
   "cell_type": "markdown",
   "id": "2c701ad9",
   "metadata": {},
   "source": [
    "**Note that the Class Attribute is defined outside of any methods in the class. Also by convention, we place them first before the init.**"
   ]
  },
  {
   "cell_type": "markdown",
   "id": "23971629",
   "metadata": {},
   "source": [
    "# 4-Pillars of OOP\n",
    "1. Inheritance\n",
    "2. Abstraction\n",
    "3. Encapsulation\n",
    "4. Polymorphism"
   ]
  },
  {
   "cell_type": "markdown",
   "id": "fe5f15d9",
   "metadata": {},
   "source": [
    "## 1. Inheritance\n",
    "\n",
    "Inheritance is a fundamental concept in object-oriented programming (OOP) that allows you to create a new class (called a \"subclass\" or \"derived class\") based on an existing class (called a \"base class\" or \"superclass\"). Inheritance enables you to define a new class that inherits the attributes and methods of an existing class, while also allowing you to extend or modify its behavior.\n",
    "\n",
    "Key points about inheritance:\n",
    "\n",
    "1. Code Reusability: Inheritance promotes code reuse by allowing you to create a new class that inherits the properties and behaviors of an existing class. This helps avoid duplicating code.\n",
    "\n",
    "2. Base and Derived Classes: The existing class is referred to as the base class or superclass, while the new class being created is the derived class or subclass.\n",
    "\n",
    "3. Inherited Attributes and Methods: The derived class inherits all the attributes and methods of the base class. This means that you can use the attributes and methods of the base class directly in the derived class without having to rewrite them."
   ]
  },
  {
   "cell_type": "code",
   "execution_count": 19,
   "id": "13388d6d",
   "metadata": {},
   "outputs": [],
   "source": [
    "class BankAccount:\n",
    "    bank_name = \"MyBank\"\n",
    "\n",
    "    def __init__(self, account_holder, balance):\n",
    "        self.account_holder = account_holder\n",
    "        self.balance = balance\n",
    "\n",
    "    def deposit(self, amount):\n",
    "        self.balance += amount\n",
    "\n",
    "    def withdraw(self, amount):\n",
    "        if self.balance >= amount:\n",
    "            self.balance -= amount\n",
    "\n",
    "    def get_balance(self):\n",
    "        return self.balance\n",
    "\n",
    "class SavingsAccount(BankAccount):\n",
    "    interest_rate = 0.02\n",
    "\n",
    "    def apply_interest(self):\n",
    "        self.balance += self.balance * self.interest_rate\n"
   ]
  },
  {
   "cell_type": "code",
   "execution_count": 20,
   "id": "abaf63d0",
   "metadata": {},
   "outputs": [
    {
     "name": "stdout",
     "output_type": "stream",
     "text": [
      "Parent account holder: Alice\n",
      "Parent account balance: 1500.0\n",
      "Parent bank name: MyBank\n",
      "Child account holder: Bob\n",
      "Child account balance: 2000.0\n",
      "Child bank name (inherited from parent): MyBank\n",
      "Child interest rate: 0.02\n",
      "Error: 'BankAccount' object has no attribute 'interest_rate'\n"
     ]
    }
   ],
   "source": [
    "# Create objects\n",
    "parent_account = BankAccount(\"Alice\", 1500.0)\n",
    "child_account = SavingsAccount(\"Bob\", 2000.0)\n",
    "\n",
    "# Accessing variables from the parent class object\n",
    "print(\"Parent account holder:\", parent_account.account_holder)\n",
    "print(\"Parent account balance:\", parent_account.get_balance())\n",
    "print(\"Parent bank name:\", parent_account.bank_name)\n",
    "\n",
    "# Accessing variables from the child class object\n",
    "print(\"Child account holder:\", child_account.account_holder)\n",
    "print(\"Child account balance:\", child_account.get_balance())\n",
    "print(\"Child bank name (inherited from parent):\", child_account.bank_name)\n",
    "print(\"Child interest rate:\", child_account.interest_rate)\n",
    "\n",
    "# Trying to access child-specific attribute from parent object (will raise an AttributeError)\n",
    "try:\n",
    "    print(\"Parent interest rate:\", parent_account.interest_rate)\n",
    "except AttributeError as e:\n",
    "    print(\"Error:\", e)\n"
   ]
  },
  {
   "cell_type": "markdown",
   "id": "ecf981fb",
   "metadata": {},
   "source": [
    "**In this example, we've created instances of both the parent BankAccount class and the child SavingsAccount class. We can access all variables inherited from the parent class, including the class attribute bank_name. We can also access the child-specific attribute interest_rate from the child object.**\n",
    "\n",
    "**However, when trying to access the child-specific attribute interest_rate from the parent object, an AttributeError will be raised since the parent class doesn't have this attribute. Child-specific attributes and methods are not accessible from instances of the parent class.**"
   ]
  },
  {
   "cell_type": "markdown",
   "id": "9f1ffd0e",
   "metadata": {},
   "source": [
    "## 2. Abstraction\n",
    "Abstraction is a fundamental concept in object-oriented programming (OOP) that focuses on simplifying complex reality by modeling classes based on their essential characteristics. It involves emphasizing the essential attributes and behaviors of an object while hiding or abstracting away the unnecessary details.\n",
    "\n",
    "In other words, abstraction allows you to create a simplified representation of an object that captures its core features and interactions while ignoring the intricate internal workings.\n",
    "\n",
    "Example of Abstraction:\n",
    "\n",
    "Consider the concept of a \"Vehicle.\" A vehicle can be abstractly defined based on its essential characteristics without worrying about the specifics of individual vehicle types. "
   ]
  },
  {
   "cell_type": "code",
   "execution_count": 21,
   "id": "782c184c",
   "metadata": {},
   "outputs": [
    {
     "name": "stdout",
     "output_type": "stream",
     "text": [
      "Withdrew $200. Current balance: $1300.0\n",
      "Account balance: $1300.0\n"
     ]
    }
   ],
   "source": [
    "from abc import ABC, abstractmethod\n",
    "\n",
    "class BankAccount(ABC):\n",
    "    def __init__(self, account_holder, balance):\n",
    "        self.account_holder = account_holder\n",
    "        self.balance = balance\n",
    "\n",
    "    @abstractmethod\n",
    "    def withdraw(self, amount):\n",
    "        pass\n",
    "\n",
    "    @abstractmethod\n",
    "    def get_balance(self):\n",
    "        pass\n",
    "\n",
    "class SavingsAccount(BankAccount):\n",
    "    interest_rate = 0.02\n",
    "\n",
    "    def withdraw(self, amount):\n",
    "        if self.balance >= amount:\n",
    "            self.balance -= amount\n",
    "            print(f\"Withdrew ${amount}. Current balance: ${self.balance}\")\n",
    "        else:\n",
    "            print(\"Insufficient funds!\")\n",
    "\n",
    "    def get_balance(self):\n",
    "        return self.balance\n",
    "\n",
    "# Create a SavingsAccount object\n",
    "savings_account = SavingsAccount(\"Alice\", 1500.0)\n",
    "\n",
    "# Using abstraction\n",
    "savings_account.withdraw(200)\n",
    "print(f\"Account balance: ${savings_account.get_balance()}\")\n"
   ]
  },
  {
   "cell_type": "markdown",
   "id": "2e5d4b5e",
   "metadata": {},
   "source": [
    "In this bank example, the BankAccount class defines an abstraction for basic bank account functionality. It declares two abstract methods, withdraw() and get_balance(), which must be implemented by its subclasses. The SavingsAccount class is a concrete implementation of the abstract class."
   ]
  },
  {
   "cell_type": "markdown",
   "id": "05813065",
   "metadata": {},
   "source": [
    "## 3. Encapsulation\n",
    "Encapsulation is one of the fundamental principles of object-oriented programming (OOP) that involves bundling data (attributes) and the methods (functions) that operate on that data into a single unit called a \"class.\" The primary goal of encapsulation is to hide the internal implementation details of an object from the outside world while providing a controlled and well-defined interface for interacting with the object.\n",
    "\n",
    "In simpler terms, encapsulation is the practice of enclosing the data (attributes) and behavior (methods) related to a concept within a single entity, the class. This helps to achieve data integrity, abstraction, and modular design in your code."
   ]
  },
  {
   "cell_type": "code",
   "execution_count": 22,
   "id": "89bb93a0",
   "metadata": {},
   "outputs": [
    {
     "name": "stdout",
     "output_type": "stream",
     "text": [
      "Account holder: Alice\n",
      "Initial balance: 1000\n",
      "Error: 'BankAccount' object has no attribute '__transaction_limit'\n",
      "Withdrew $200. Current balance: $1300\n"
     ]
    },
    {
     "ename": "AttributeError",
     "evalue": "'BankAccount' object has no attribute '__transaction_limit'",
     "output_type": "error",
     "traceback": [
      "\u001b[1;31m---------------------------------------------------------------------------\u001b[0m",
      "\u001b[1;31mAttributeError\u001b[0m                            Traceback (most recent call last)",
      "\u001b[1;32m~\\AppData\\Local\\Temp\\ipykernel_7372\\3750117567.py\u001b[0m in \u001b[0;36m<module>\u001b[1;34m\u001b[0m\n\u001b[0;32m     42\u001b[0m \u001b[0maccount\u001b[0m\u001b[1;33m.\u001b[0m\u001b[0mset_transaction_limit\u001b[0m\u001b[1;33m(\u001b[0m\u001b[1;36m1500\u001b[0m\u001b[1;33m)\u001b[0m\u001b[1;33m\u001b[0m\u001b[1;33m\u001b[0m\u001b[0m\n\u001b[0;32m     43\u001b[0m \u001b[1;33m\u001b[0m\u001b[0m\n\u001b[1;32m---> 44\u001b[1;33m \u001b[0mprint\u001b[0m\u001b[1;33m(\u001b[0m\u001b[1;34m\"Updated transaction limit:\"\u001b[0m\u001b[1;33m,\u001b[0m \u001b[0maccount\u001b[0m\u001b[1;33m.\u001b[0m\u001b[0m__transaction_limit\u001b[0m\u001b[1;33m)\u001b[0m  \u001b[1;31m# Still raises AttributeError\u001b[0m\u001b[1;33m\u001b[0m\u001b[1;33m\u001b[0m\u001b[0m\n\u001b[0m\u001b[0;32m     45\u001b[0m \u001b[1;33m\u001b[0m\u001b[0m\n\u001b[0;32m     46\u001b[0m \u001b[1;31m# Accessing attribute using method\u001b[0m\u001b[1;33m\u001b[0m\u001b[1;33m\u001b[0m\u001b[0m\n",
      "\u001b[1;31mAttributeError\u001b[0m: 'BankAccount' object has no attribute '__transaction_limit'"
     ]
    }
   ],
   "source": [
    "class BankAccount:\n",
    "    def __init__(self, account_holder, initial_balance):\n",
    "        self.account_holder = account_holder  # Public attribute\n",
    "        self._balance = initial_balance  # Protected attribute\n",
    "        self.__transaction_limit = 1000  # Private attribute\n",
    "\n",
    "    def deposit(self, amount):\n",
    "        if amount > 0:\n",
    "            self._balance += amount\n",
    "\n",
    "    def withdraw(self, amount):\n",
    "        if 0 < amount <= self.__transaction_limit and amount <= self._balance:\n",
    "            self._balance -= amount\n",
    "            print(f\"Withdrew ${amount}. Current balance: ${self._balance}\")\n",
    "        else:\n",
    "            print(\"Invalid withdrawal amount or transaction limit exceeded!\")\n",
    "\n",
    "    def get_balance(self):\n",
    "        return self._balance\n",
    "\n",
    "    def set_transaction_limit(self, limit):\n",
    "        self.__transaction_limit = limit\n",
    "\n",
    "# Create a BankAccount object\n",
    "account = BankAccount(\"Alice\", 1000)\n",
    "\n",
    "# Accessing public and protected attributes\n",
    "print(\"Account holder:\", account.account_holder)\n",
    "print(\"Initial balance:\", account._balance)\n",
    "\n",
    "# Attempting to access private attribute directly (will raise an AttributeError)\n",
    "try:\n",
    "    print(\"Transaction limit:\", account.__transaction_limit)\n",
    "except AttributeError as e:\n",
    "    print(\"Error:\", e)\n",
    "\n",
    "# Accessing attributes using methods\n",
    "account.deposit(500)\n",
    "account.withdraw(200)\n",
    "\n",
    "# Modifying transaction limit using method\n",
    "account.set_transaction_limit(1500)\n",
    "\n",
    "print(\"Updated transaction limit:\", account.__transaction_limit)  # Still raises AttributeError\n",
    "\n",
    "# Accessing attribute using method\n",
    "print(\"Balance:\", account.get_balance())\n"
   ]
  },
  {
   "cell_type": "markdown",
   "id": "00d304dd",
   "metadata": {},
   "source": [
    "In this example:\n",
    "\n",
    "1. account_holder is a public attribute that can be accessed directly.\n",
    "2. _balance is a protected attribute, denoted by the single underscore, which suggests that it's meant to be considered protected but can still be accessed directly.\n",
    "3. __transaction_limit is a private attribute, denoted by the double underscore, which is not directly accessible from outside the class. Attempting to access it directly will raise an AttributeError."
   ]
  },
  {
   "cell_type": "markdown",
   "id": "d0fe2b89",
   "metadata": {},
   "source": [
    "## 4. Polymorphism\n",
    "Polymorphism is a fundamental concept in object-oriented programming (OOP) that allows objects of different classes to be treated as if they are objects of a common superclass. It enables you to create code that can work with objects of various types in a consistent manner. Polymorphism is achieved through method overriding and method overloading.\n"
   ]
  },
  {
   "cell_type": "markdown",
   "id": "ce8f20cc",
   "metadata": {},
   "source": [
    "#### Method Overriding\n",
    "Method overriding occurs when a subclass provides its own implementation for a method that is already defined in its superclass. Here's an example using the BankAccount and SavingsAccount clas"
   ]
  },
  {
   "cell_type": "code",
   "execution_count": 23,
   "id": "47f1b1bf",
   "metadata": {},
   "outputs": [
    {
     "name": "stdout",
     "output_type": "stream",
     "text": [
      "Withdrew $300. Current balance: $1200\n",
      "Withdrew $500 from savings account. Current balance: $1500\n"
     ]
    }
   ],
   "source": [
    "class BankAccount:\n",
    "    def __init__(self, account_holder, balance):\n",
    "        self.account_holder = account_holder\n",
    "        self.balance = balance\n",
    "\n",
    "    def withdraw(self, amount):\n",
    "        if 0 < amount <= self.balance:\n",
    "            self.balance -= amount\n",
    "            print(f\"Withdrew ${amount}. Current balance: ${self.balance}\")\n",
    "        else:\n",
    "            print(\"Invalid withdrawal amount or insufficient funds!\")\n",
    "\n",
    "class SavingsAccount(BankAccount):\n",
    "    def __init__(self, account_holder, balance, interest_rate):\n",
    "        super().__init__(account_holder, balance)\n",
    "        self.interest_rate = interest_rate\n",
    "\n",
    "    def withdraw(self, amount):  # Method overriding\n",
    "        if 0 < amount <= self.balance:\n",
    "            self.balance -= amount\n",
    "            print(f\"Withdrew ${amount} from savings account. Current balance: ${self.balance}\")\n",
    "        else:\n",
    "            print(\"Invalid withdrawal amount or insufficient funds!\")\n",
    "\n",
    "# Creating instances\n",
    "account1 = BankAccount(\"Alice\", 1500)\n",
    "savings_account = SavingsAccount(\"Bob\", 2000, 0.03)\n",
    "\n",
    "# Using method overriding\n",
    "account1.withdraw(300)\n",
    "savings_account.withdraw(500)\n"
   ]
  },
  {
   "cell_type": "markdown",
   "id": "db2b076e",
   "metadata": {},
   "source": [
    "In this example, the withdraw() method in the SavingsAccount subclass overrides the method in the BankAccount superclass. This allows the SavingsAccount class to provide a specialized withdrawal message while maintaining the common interface."
   ]
  },
  {
   "cell_type": "markdown",
   "id": "bfc113d7",
   "metadata": {},
   "source": [
    "#### Method Overlaoding\n",
    "Method overloading, while not supported in Python in the traditional sense, can be simulated using default arguments or variable-length argument lists. Here's an example using default arguments in the Bank class:"
   ]
  },
  {
   "cell_type": "code",
   "execution_count": 24,
   "id": "d77b4963",
   "metadata": {},
   "outputs": [
    {
     "name": "stdout",
     "output_type": "stream",
     "text": [
      "Simple Interest: 0\n",
      "Compound Interest: 50.0\n"
     ]
    }
   ],
   "source": [
    "class Bank:\n",
    "    def calculate_interest(self, amount, interest_rate=None):\n",
    "        if interest_rate:\n",
    "            return amount * interest_rate\n",
    "        else:\n",
    "            return 0\n",
    "\n",
    "# Create an instance\n",
    "bank = Bank()\n",
    "\n",
    "# Using method overloading (Python style)\n",
    "simple_interest = bank.calculate_interest(1000)\n",
    "compound_interest = bank.calculate_interest(1000, 0.05)\n",
    "\n",
    "print(\"Simple Interest:\", simple_interest)\n",
    "print(\"Compound Interest:\", compound_interest)\n"
   ]
  },
  {
   "cell_type": "markdown",
   "id": "e7bfefcf",
   "metadata": {},
   "source": [
    "In this example, the calculate_interest() method in the Bank class simulates method overloading by accepting a default argument for interest_rate. If no interest_rate is provided, it defaults to 0, allowing the method to handle different numbers of arguments."
   ]
  },
  {
   "cell_type": "markdown",
   "id": "a94e91f7",
   "metadata": {},
   "source": [
    "### Special Methods (or magic methods) for classes\n",
    "1. __init__() method: The constructor method that initializes the object when it's created. It sets the initial attributes of the object, such as the account holder's name and balance.\n",
    "\n",
    "2. __str__() method: Provides a human-readable string representation of the object. It's used when you want to convert the object to a string using the str() function or when printing the object. For example, it can be used to display the account holder's name and balance in a readable format.\n",
    "\n",
    "3. __len__() method: Defines the behavior of the len() function when called on the object. It returns a value that represents the \"length\" of the object. In this case, it returns the balance of the bank account, but keep in mind that the concept of \"length\" might not always be applicable to all objects.\n",
    "\n",
    "4. __del__() method: Invoked when the object is being deleted, either explicitly using the del statement or when it goes out of scope. It can be used to perform cleanup tasks before the object is removed from memory. In this example, it simply prints a message indicating that the account is being deleted."
   ]
  },
  {
   "cell_type": "code",
   "execution_count": 25,
   "id": "f181ed69",
   "metadata": {},
   "outputs": [],
   "source": [
    "class BankAccount:\n",
    "    def __init__(self, account_holder, balance):\n",
    "        print(\"A bank account is created\")\n",
    "        self.account_holder = account_holder\n",
    "        self.balance = balance\n",
    "\n",
    "    def __str__(self):\n",
    "        return \"Account holder: %s, balance: $%.2f\" % (self.account_holder, self.balance)\n",
    "\n",
    "    def __len__(self):\n",
    "        return self.balance\n",
    "\n",
    "    def __del__(self):\n",
    "        print(\"A bank account is closed\")\n"
   ]
  },
  {
   "cell_type": "code",
   "execution_count": 26,
   "id": "68fac380",
   "metadata": {},
   "outputs": [
    {
     "name": "stdout",
     "output_type": "stream",
     "text": [
      "A bank account is created\n"
     ]
    }
   ],
   "source": [
    "# Creating a bank account\n",
    "account = BankAccount(\"Alice\", 1500)"
   ]
  },
  {
   "cell_type": "code",
   "execution_count": 27,
   "id": "d0b6beaa",
   "metadata": {},
   "outputs": [
    {
     "name": "stdout",
     "output_type": "stream",
     "text": [
      "Account holder: Alice, balance: $1500.00\n",
      "Account balance: 1500\n"
     ]
    }
   ],
   "source": [
    "\n",
    "# Using special methods\n",
    "print(str(account))\n",
    "print(\"Account balance:\", len(account))\n"
   ]
  },
  {
   "cell_type": "code",
   "execution_count": 28,
   "id": "2c75a5a3",
   "metadata": {},
   "outputs": [
    {
     "name": "stdout",
     "output_type": "stream",
     "text": [
      "A bank account is closed\n"
     ]
    }
   ],
   "source": [
    "\n",
    "# Closing the account\n",
    "del account\n"
   ]
  },
  {
   "cell_type": "markdown",
   "id": "c702cc12",
   "metadata": {},
   "source": [
    "    The __init__(), __str__(), __len__() and __del__() methods\n",
    "These special methods are defined by their use of underscores. They allow us to use Python specific functions on objects created through our class."
   ]
  },
  {
   "cell_type": "markdown",
   "id": "349d8625",
   "metadata": {},
   "source": [
    "**<<<<<<<<<<<<<<<<<<<<<<<<<<<<<<<<<<<<<< END OF DOCUMENT >>>>>>>>>>>>>>>>>>>>>>>>>>>>>>>>>>>>>>>>>>>>>>**"
   ]
  }
 ],
 "metadata": {
  "kernelspec": {
   "display_name": "Python 3 (ipykernel)",
   "language": "python",
   "name": "python3"
  },
  "language_info": {
   "codemirror_mode": {
    "name": "ipython",
    "version": 3
   },
   "file_extension": ".py",
   "mimetype": "text/x-python",
   "name": "python",
   "nbconvert_exporter": "python",
   "pygments_lexer": "ipython3",
   "version": "3.9.13"
  }
 },
 "nbformat": 4,
 "nbformat_minor": 5
}
