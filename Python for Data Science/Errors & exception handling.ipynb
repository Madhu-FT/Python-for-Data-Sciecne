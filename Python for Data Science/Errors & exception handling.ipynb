{
 "cells": [
  {
   "cell_type": "markdown",
   "id": "e3cb6f73",
   "metadata": {},
   "source": [
    "\n",
    "\n",
    "___\n",
    "\n",
    "<a href='https://fingertips.co.in/'><img src='ft_logo_new.png'/></a>\n",
    "___\n",
    "<center><em>Content Copyright by Fingertips Data Intelligence Solutions</em></center>"
   ]
  },
  {
   "cell_type": "markdown",
   "id": "6f9e766f",
   "metadata": {},
   "source": [
    "# EXCEPTION HANDLING"
   ]
  },
  {
   "cell_type": "markdown",
   "id": "70a7cfb0",
   "metadata": {},
   "source": [
    "## Agenda!\n",
    "\n",
    "1. What are errors?\n",
    "2. Stages of errors->Syntax error & Exceptions\n",
    "3. What are Exceptions?\n",
    "4. Examples of Syntax errors\n",
    "5. Examples of Exceptions\n",
    "6. Exception Handling\n",
    "7. try & except block\n",
    "8. else block\n",
    "9. finally block\n",
    "10. Multiple errors\n",
    "11. Handling specific error\n",
    "12. Raise exception\n",
    "13. Creating custom exception\n"
   ]
  },
  {
   "cell_type": "markdown",
   "id": "2c28d359",
   "metadata": {},
   "source": [
    "### 1. What are Errors in Python?\n",
    "So, you would have definately encountered errors in python till now. \n",
    "Errors are issues in your code that prevent it from running correctly. "
   ]
  },
  {
   "cell_type": "markdown",
   "id": "2526b8f9",
   "metadata": {},
   "source": [
    "### 2. What are 2 Stages of Errors in Python?\n",
    "1. Syntax Errors: These errors occur when your code violates the rules and structure of the programming language. They are typically detected by the interpreter or compiler before the program runs. These errors are detected during the parsing phase of your program and prevent it from running.\n",
    "\n",
    "2. Runtime Errors (Exceptions): These errors occur during the execution of your program. They are caused by exceptional conditions or unexpected situations that disrupt the normal flow. Examples include dividing a number by zero, accessing a file that doesn't exist, or calling a function with the wrong arguments."
   ]
  },
  {
   "cell_type": "markdown",
   "id": "4c68225a",
   "metadata": {},
   "source": [
    "### 3. What are Exceptions in Python?\n",
    "Exceptions are a type of runtime error that occur when the program encounters an unexpected situation. Python provides built-in exception classes to handle different types of errors. Examples of exceptions include ZeroDivisionError, FileNotFoundError etc.\n",
    "\n",
    "Exceptions occur during the execution of your program and disrupt its normal flow. They need to be handled to prevent the program from crashing."
   ]
  },
  {
   "cell_type": "markdown",
   "id": "437b6707",
   "metadata": {},
   "source": [
    "### 4. Syntax Error\n",
    "Python's error messages will often provide clues about the specific issue, such as indicating the line where the error occurred and providing a description of the problem."
   ]
  },
  {
   "cell_type": "code",
   "execution_count": null,
   "id": "c443724e",
   "metadata": {},
   "outputs": [],
   "source": [
    "x=10"
   ]
  },
  {
   "cell_type": "code",
   "execution_count": null,
   "id": "12ee8e5f",
   "metadata": {},
   "outputs": [],
   "source": [
    "# Example 1: Missing colon in if statement\n",
    "if x > 5\n",
    "    print(\"x is greater than 5\")"
   ]
  },
  {
   "cell_type": "code",
   "execution_count": null,
   "id": "20c3f3fc",
   "metadata": {},
   "outputs": [],
   "source": [
    "# Example 2: Misspelled function name\n",
    "prin(\"Hello, World!\")\n"
   ]
  },
  {
   "cell_type": "code",
   "execution_count": null,
   "id": "b66e2c24",
   "metadata": {
    "scrolled": true
   },
   "outputs": [],
   "source": [
    "# Example 3: Missing closing parenthesis\n",
    "print(\"Hello, World!\"  \n"
   ]
  },
  {
   "cell_type": "code",
   "execution_count": null,
   "id": "7ba9792d",
   "metadata": {},
   "outputs": [],
   "source": [
    "# Example 4: Missing closing quotation mark\n",
    "print(\"Hello, World!)  \n"
   ]
  },
  {
   "cell_type": "code",
   "execution_count": null,
   "id": "4183c3f1",
   "metadata": {},
   "outputs": [],
   "source": [
    "# Example 5: Missing indentation\n",
    "\n",
    "def greet():\n",
    "print(\"Hello!\")  \n"
   ]
  },
  {
   "cell_type": "code",
   "execution_count": null,
   "id": "d31fc84b",
   "metadata": {},
   "outputs": [],
   "source": [
    "# Example 6: Incorrect function definition\n",
    "def greet:\n",
    "    print(\"Hello!\")  \n"
   ]
  },
  {
   "cell_type": "code",
   "execution_count": null,
   "id": "28374647",
   "metadata": {},
   "outputs": [],
   "source": [
    "# Example 7: Misspelled 'while' keyword\n",
    "whille x < 5: \n",
    "    print(x)\n"
   ]
  },
  {
   "cell_type": "code",
   "execution_count": null,
   "id": "be03fdcb",
   "metadata": {},
   "outputs": [],
   "source": [
    "#Example 8: Incomplete expression\n",
    "result = 10 / \n"
   ]
  },
  {
   "cell_type": "markdown",
   "id": "92e3326d",
   "metadata": {},
   "source": [
    "### 5. Exceptions"
   ]
  },
  {
   "cell_type": "code",
   "execution_count": null,
   "id": "b8ae0a5f",
   "metadata": {
    "scrolled": true
   },
   "outputs": [],
   "source": [
    "# Example 1: Division by zero\n",
    "result = 10 / 0\n"
   ]
  },
  {
   "cell_type": "code",
   "execution_count": null,
   "id": "46fab22d",
   "metadata": {},
   "outputs": [],
   "source": [
    "# Example 2: Accessing a file that doesn't exist\n",
    "file = open(\"nonexistent.txt\", \"r\")\n"
   ]
  },
  {
   "cell_type": "code",
   "execution_count": null,
   "id": "3ed36736",
   "metadata": {},
   "outputs": [],
   "source": [
    "# Example 3: Incorrect function argument\n",
    "numbers = [1, 2, 3]\n",
    "average = sum(numbers, \"4\")\n",
    "average"
   ]
  },
  {
   "cell_type": "markdown",
   "id": "402a0c4b",
   "metadata": {},
   "source": [
    "### 6. Exception Handling & Why there is need?\n",
    "\n",
    "**General Structure:**\n",
    "<pre><code>\n",
    "try:\n",
    "    # Code that may raise an exception\n",
    "    # ...\n",
    "except ExceptionType1:\n",
    "    # Code to handle exceptions of type ExceptionType1\n",
    "    # ...\n",
    "except ExceptionType2:\n",
    "    # Code to handle exceptions of type ExceptionType2\n",
    "    # ...\n",
    "else:\n",
    "    # Code that executes if no exception is raised\n",
    "    # ...\n",
    "finally:\n",
    "    # Code that always executes, whether an exception is raised or not\n",
    "    # ...\n",
    "</code></pre>\n",
    "\n",
    "\n",
    "**Explanation:**\n",
    "1. The try block encloses the code that you want to monitor for exceptions. If an exception occurs within this block, it will be caught and handled by the appropriate except block or propagated further up the call stack if not handled.\n",
    "2. The except block(s) specify the type(s) of exceptions to catch and provide the code to handle them. You can have multiple except blocks to handle different types of exceptions separately.\n",
    "3. The else block contains code that is executed only if no exceptions are raised within the try block. It is optional and provides a way to differentiate the main code execution from the exception handling code.\n",
    "4. The finally block contains code that always executes, regardless of whether an exception occurred or was handled. It is optional and commonly used for cleanup tasks, such as releasing resources or closing files.\n",
    "\n",
    "**Why there is need?**\n",
    "\n",
    "Exception handling improves the user experience by presenting meaningful error messages, enhances security by preventing the exposure of sensitive information, contributes to the maintainability of the codebase, and ensures the continuity of program execution even in the presence of errors."
   ]
  },
  {
   "cell_type": "markdown",
   "id": "06b61863",
   "metadata": {},
   "source": [
    "### 7. try-except Block\n",
    "Try-Except Block: The try block contains the code that might raise an exception. The except block catches the exception and handles it. Here's an example:"
   ]
  },
  {
   "cell_type": "code",
   "execution_count": null,
   "id": "8c3991be",
   "metadata": {},
   "outputs": [],
   "source": [
    "numerator = 10\n",
    "denominator = 0\n",
    "result = numerator / denominator"
   ]
  },
  {
   "cell_type": "code",
   "execution_count": null,
   "id": "e62dd45c",
   "metadata": {},
   "outputs": [],
   "source": [
    "#Handling ZeroDivisionError:\n",
    "\n",
    "try:\n",
    "    numerator = 10\n",
    "    denominator = 0\n",
    "    result = numerator / denominator\n",
    "\n",
    "except:                                                # OR --> except ZeroDivisionError:\n",
    "    #print(\"Error: Division by zero is not allowed.\")\n",
    "    print(\"bhai 0 se divide nhi kr skte.\")\n"
   ]
  },
  {
   "cell_type": "code",
   "execution_count": null,
   "id": "28d170df",
   "metadata": {},
   "outputs": [],
   "source": [
    "#Another error possibility\n",
    "#Handling ValueError:\n",
    "\n",
    "try:\n",
    "    numerator = int(input(\"Enter the numerator: \"))\n",
    "    denominator = int(input(\"Enter the denominator: \"))\n",
    "    result = numerator / denominator\n",
    "    #print(result)\n",
    "    \n",
    "except ValueError:\n",
    "    print(\"Error: Invalid input. Please enter a valid number.\")\n"
   ]
  },
  {
   "cell_type": "markdown",
   "id": "dcead168",
   "metadata": {},
   "source": [
    "### 8. else Block\n",
    "Else Block: The else block is optional and executes if no exceptions occur in the try block. It is used for code that should run only when no exceptions are raised. Here's an example:"
   ]
  },
  {
   "cell_type": "code",
   "execution_count": null,
   "id": "21c407dc",
   "metadata": {},
   "outputs": [],
   "source": [
    "#Handling ZeroDivisionError:\n",
    "\n",
    "try:\n",
    "    numerator = 10\n",
    "    denominator = 0\n",
    "    result = numerator / denominator\n",
    "except ZeroDivisionError:\n",
    "    print(\"Error: Division by zero is not allowed.\")\n",
    "else:\n",
    "    # This block will not be executed due to the ZeroDivisionError\n",
    "    print(\"The division result is:\", result)\n"
   ]
  },
  {
   "cell_type": "code",
   "execution_count": null,
   "id": "56ebc371",
   "metadata": {},
   "outputs": [],
   "source": [
    "#Handling ValueError:\n",
    "\n",
    "try:\n",
    "    numerator = int(input(\"Enter the numerator: \"))\n",
    "    denominator = int(input(\"Enter the denominator: \"))\n",
    "    result = numerator / denominator\n",
    "except ValueError:\n",
    "    print(\"Error: Invalid input. Please enter a valid number.\")\n",
    "else:\n",
    "    print(\"The division result is:\", result)\n"
   ]
  },
  {
   "cell_type": "markdown",
   "id": "7ecdc288",
   "metadata": {},
   "source": [
    "### 9. finally Block\n",
    "finally Block: The finally block is optional and executes regardless of whether an exception occurred or not. It is used for code that should always run, such as cleaning up resources. Here's an example:"
   ]
  },
  {
   "cell_type": "code",
   "execution_count": null,
   "id": "54121308",
   "metadata": {},
   "outputs": [],
   "source": [
    "#Handling ZeroDivisionError:\n",
    "\n",
    "try:\n",
    "    numerator = 10\n",
    "    denominator = 0\n",
    "    result = numerator / denominator\n",
    "except ZeroDivisionError:\n",
    "    print(\"Error: Division by zero is not allowed.\")\n",
    "else:\n",
    "    print(\"The division result is:\", result)\n",
    "finally:\n",
    "    print(\"End of calculation.\")\n"
   ]
  },
  {
   "cell_type": "code",
   "execution_count": null,
   "id": "269e2e85",
   "metadata": {},
   "outputs": [],
   "source": [
    "#Handling ValueError:\n",
    "\n",
    "try:\n",
    "    numerator = int(input(\"Enter the numerator: \"))\n",
    "    denominator = int(input(\"Enter the denominator: \"))\n",
    "    result = numerator / denominator\n",
    "except ValueError:\n",
    "    print(\"Error: Invalid input. Please enter a valid number.\")\n",
    "else:\n",
    "    print(\"The division result is:\", result)\n",
    "finally:\n",
    "    print(\"End of calculation.\")\n"
   ]
  },
  {
   "cell_type": "markdown",
   "id": "2227016c",
   "metadata": {},
   "source": [
    "### 10. Handling Multiple Errors Using Multiple Exceptions\n",
    "When there is possibility of occurence of multiple errors together, then we can handle them using multiple exceptions."
   ]
  },
  {
   "cell_type": "code",
   "execution_count": null,
   "id": "08ae978c",
   "metadata": {},
   "outputs": [],
   "source": [
    "#Handling multiple errors together using multiple exceptions.\n",
    "\n",
    "try:\n",
    "    numerator = int(input(\"Enter the numerator: \"))\n",
    "    denominator = int(input(\"Enter the denominator: \"))\n",
    "    result = numerator / denominator\n",
    "except ValueError:\n",
    "    print(\"Error: Invalid input. Please enter a valid number.\")\n",
    "except ZeroDivisionError:\n",
    "    print(\"Error: Division by zero is not allowed.\")\n",
    "else:\n",
    "    print(\"The division result is:\", result)\n"
   ]
  },
  {
   "cell_type": "code",
   "execution_count": null,
   "id": "5a166b0b",
   "metadata": {},
   "outputs": [],
   "source": [
    "try:\n",
    "    numerator = int(input(\"Enter the numerator: \"))\n",
    "    denominator = int(input(\"Enter the denominator: \"))\n",
    "    result = numerator / denominator\n",
    "except ValueError:\n",
    "    print(\"Error: Invalid input. Please enter a valid number.\")\n",
    "except ZeroDivisionError:\n",
    "    print(\"Error: Division by zero is not allowed.\")\n",
    "else:\n",
    "    print(\"The division result is:\", result)\n",
    "finally:\n",
    "    print(\"End of calculation.\")\n"
   ]
  },
  {
   "cell_type": "markdown",
   "id": "2eb51897",
   "metadata": {},
   "source": [
    "### 11. Handling Specific Error Using - exception as e"
   ]
  },
  {
   "cell_type": "code",
   "execution_count": null,
   "id": "c6e875d5",
   "metadata": {},
   "outputs": [],
   "source": [
    "def divide_numbers(num1, num2):\n",
    "    try:\n",
    "        result = num1 / num2\n",
    "    except ZeroDivisionError as e:\n",
    "        print(\"Error: Cannot divide by zero. Please provide a non-zero denominator.\")\n",
    "        return None\n",
    "    except ValueError as e:\n",
    "        print(\"Error: Invalid input. Please enter valid numbers for numerator and denominator.\")\n",
    "        return None\n",
    "    except Exception as e:\n",
    "        print(\"An unexpected error occurred:\", str(e))\n",
    "        return None\n",
    "    else:\n",
    "        return result\n",
    "\n",
    "# Example usage\n",
    "numerator = 10\n",
    "denominator = '2'  # Providing a string as denominator to trigger a general exception\n",
    "result = divide_numbers(numerator, denominator)\n",
    "if result is not None:\n",
    "    print(\"The division result is:\", result)\n",
    "else:\n",
    "    print(\"Division failed. Please check the inputs.\")\n"
   ]
  },
  {
   "cell_type": "markdown",
   "id": "659c47b9",
   "metadata": {},
   "source": [
    "### 12. Raise Exception\n",
    "'raise' is a keyword used to intentionally create and signal an exception in Python. It allows you to indicate that something unexpected or erroneous has happened in your code. By raising an exception, you can control how errors are handled and communicate specific error conditions to help troubleshoot and handle exceptional situations in your program."
   ]
  },
  {
   "cell_type": "code",
   "execution_count": null,
   "id": "0fcab2d0",
   "metadata": {},
   "outputs": [],
   "source": [
    "def greet(name):\n",
    "    if not isinstance(name, str):\n",
    "        raise TypeError(\"Bhai, naam string hona chahiye!\")\n",
    "    print(f\"Namaste {name}! Kaise ho?\")\n",
    "\n",
    "# Example usage\n",
    "try:\n",
    "    greet(42)\n",
    "except TypeError as e:\n",
    "    print(\"Error:\", str(e))\n"
   ]
  },
  {
   "cell_type": "code",
   "execution_count": null,
   "id": "0e9ad718",
   "metadata": {},
   "outputs": [],
   "source": [
    "def calculate_square_root(number):\n",
    "    if not isinstance(number, (int, float)):\n",
    "        raise TypeError(\"Invalid input. Please provide a number.\")\n",
    "\n",
    "    if number < 0:\n",
    "        raise ValueError(\"Invalid input. Cannot calculate the square root of a negative number.\")\n",
    "\n",
    "    result = number ** 0.5\n",
    "    return result\n",
    "\n",
    "# Example usage\n",
    "try:\n",
    "    square_root = calculate_square_root(\"25\")\n",
    "except (TypeError, ValueError) as e:\n",
    "    print(\"Error:\", str(e))\n"
   ]
  },
  {
   "cell_type": "markdown",
   "id": "c841d966",
   "metadata": {},
   "source": [
    "### 13. Creating Custom Exceptions\n",
    "\n",
    "**But what's the need?**\n",
    "1. Make code easier to understand by creating specific exception classes.\n",
    "2. Provide clear and meaningful error messages.\n",
    "3. Allow differentiating between different types of errors.\n",
    "4. Promote modularity and reusability of error handling logic.\n",
    "5. Enable the creation of application-specific exceptions for better error handling."
   ]
  },
  {
   "cell_type": "code",
   "execution_count": null,
   "id": "904fb982",
   "metadata": {},
   "outputs": [],
   "source": [
    "class AgeValidationException(Exception):\n",
    "    pass\n",
    "\n",
    "def validate_age(age):\n",
    "    if age < 0:\n",
    "        raise AgeValidationException(\"Arre! Age negative nahi ho sakti.\")\n",
    "    if age > 120:\n",
    "        raise AgeValidationException(\"Oho! Age galat hai. Thoda realistic age batao.\")\n",
    "    return True\n",
    "\n",
    "# Example usage\n",
    "age = -5\n",
    "try:\n",
    "    validate_age(age)\n",
    "    print(\"Age is valid.\")\n",
    "except AgeValidationException as e:\n",
    "    print(\"Bhul gaye aap? Error hai:\", str(e))\n"
   ]
  },
  {
   "cell_type": "code",
   "execution_count": null,
   "id": "77c3e8b2",
   "metadata": {},
   "outputs": [],
   "source": [
    "class NetworkConnectionError(Exception):\n",
    "    \"\"\"Exception raised for network connection errors.\"\"\"\n",
    "    def __init__(self, network_name):\n",
    "        self.network_name = network_name\n",
    "        message = f\"Bhai, {network_name} se connection nahi ho raha hai. Check kar do settings ko!\"\n",
    "        super().__init__(message)\n",
    "\n",
    "def connect_to_network(network_name):\n",
    "    if network_name != \"WiFi\":\n",
    "        raise NetworkConnectionError(network_name)\n",
    "    else:\n",
    "        print(\"WiFi se connect ho gaye. Aage badhenge aap!\")\n",
    "\n",
    "# Example usage\n",
    "network = \"Bluetooth\"\n",
    "try:\n",
    "    connect_to_network(network)\n",
    "except NetworkConnectionError as e:\n",
    "    print(\"Error aagaya hai:\", str(e))\n"
   ]
  },
  {
   "cell_type": "code",
   "execution_count": null,
   "id": "1ee50c31",
   "metadata": {},
   "outputs": [],
   "source": [
    "class InsufficientFundsError(Exception):\n",
    "    \"\"\"Exception raised when account balance is not sufficient for withdrawal.\"\"\"\n",
    "    def __init__(self, balance, withdrawal_amount):\n",
    "        self.balance = balance\n",
    "        self.withdrawal_amount = withdrawal_amount\n",
    "        message = f\"Oho! Paise hi nahi hai yaar. Current balance: {balance}. Tera withdrawal amount: {withdrawal_amount}\"\n",
    "        super().__init__(message)\n",
    "\n",
    "def withdraw_from_account(balance, withdrawal_amount):\n",
    "    if withdrawal_amount > balance:\n",
    "        raise InsufficientFundsError(balance, withdrawal_amount)\n",
    "    else:\n",
    "        balance -= withdrawal_amount\n",
    "        print(\"Haww! Paise nikal liye. Abhi bacha hua balance: \", balance)\n",
    "\n",
    "# Example usage\n",
    "account_balance = 100\n",
    "withdraw_amount = 150\n",
    "try:\n",
    "    withdraw_from_account(account_balance, withdraw_amount)\n",
    "except InsufficientFundsError as e:\n",
    "    print(\"Error aa gaya yaar:\", str(e))"
   ]
  },
  {
   "cell_type": "markdown",
   "id": "a0ff9ef8",
   "metadata": {},
   "source": [
    "**So, Now you can handle errors and exceptions in Python with the try, except, else, and finally!**"
   ]
  }
 ],
 "metadata": {
  "kernelspec": {
   "display_name": "Python 3 (ipykernel)",
   "language": "python",
   "name": "python3"
  },
  "language_info": {
   "codemirror_mode": {
    "name": "ipython",
    "version": 3
   },
   "file_extension": ".py",
   "mimetype": "text/x-python",
   "name": "python",
   "nbconvert_exporter": "python",
   "pygments_lexer": "ipython3",
   "version": "3.9.13"
  }
 },
 "nbformat": 4,
 "nbformat_minor": 5
}
