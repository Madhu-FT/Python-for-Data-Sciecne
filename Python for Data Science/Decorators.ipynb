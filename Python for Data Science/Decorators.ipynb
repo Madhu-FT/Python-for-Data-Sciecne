{
 "cells": [
  {
   "cell_type": "markdown",
   "id": "e3cb6f73",
   "metadata": {},
   "source": [
    "\n",
    "\n",
    "___\n",
    "\n",
    "<a href='https://fingertips.co.in/'><img src='ft_logo_new.png'/></a>\n",
    "___\n",
    "<center><em>Content Copyright by Fingertips Data Intelligence Solutions</em></center>"
   ]
  },
  {
   "cell_type": "markdown",
   "id": "1c4348b2",
   "metadata": {},
   "source": [
    "# DECORATORS IN PYTHON!"
   ]
  },
  {
   "cell_type": "markdown",
   "id": "88189023",
   "metadata": {},
   "source": [
    "## Agenda:\n",
    "\n",
    "1. What are decorators?\n",
    "2. Create function without argument\n",
    "3. Create function by passing argument\n",
    "4. Nested functions\n",
    "5. Returning functions\n",
    "6. Passing functions as arguments\n",
    "7. Steps to create a decorator in python\n",
    "8. Creating a decorator manually\n",
    "9. Create a decorator using @\n",
    "10. Conclude"
   ]
  },
  {
   "cell_type": "markdown",
   "id": "824daf4e",
   "metadata": {},
   "source": [
    "### 1. What are Decorators?\n",
    "\n",
    "Decorators in Python are a way to modify the behavior of a function or a class without changing its source code directly. They allow you to wrap a function or a class with additional functionality, by defining a separate function that takes the original function as an argument and returns a modified version of it.\n",
    "\n",
    "Decorators, they help make your code shorter and more \"Pythonic\". \n",
    "\n",
    "In simple terms, decorators in Python are like a fancy wrapping paper or an extra layer of functionality that you can add to your functions or classes without changing their original code directly.\n",
    "\n",
    "Imagine you have a gift box, which represents your function or class. You want to add some extra features or modify its behavior, but you don't want to change the original gift inside. Decorators allow you to do just that by providing a way to decorate or enhance the original function or class.\n"
   ]
  },
  {
   "cell_type": "markdown",
   "id": "bc5d13e0",
   "metadata": {},
   "source": [
    "### 2. Creating Function Without Argument"
   ]
  },
  {
   "cell_type": "code",
   "execution_count": 1,
   "id": "8c7a325b",
   "metadata": {},
   "outputs": [],
   "source": [
    "def basic_func():\n",
    "    return 10"
   ]
  },
  {
   "cell_type": "code",
   "execution_count": 2,
   "id": "4181aaf1",
   "metadata": {},
   "outputs": [
    {
     "data": {
      "text/plain": [
       "10"
      ]
     },
     "execution_count": 2,
     "metadata": {},
     "output_type": "execute_result"
    }
   ],
   "source": [
    "basic_func()"
   ]
  },
  {
   "cell_type": "markdown",
   "id": "3ba360ff",
   "metadata": {},
   "source": [
    "### 3. Creating Function By Passing an Argument"
   ]
  },
  {
   "cell_type": "code",
   "execution_count": 3,
   "id": "c80cb539",
   "metadata": {},
   "outputs": [],
   "source": [
    "def arg_func(name='Jill'):\n",
    "    return 'Welocme '+name"
   ]
  },
  {
   "cell_type": "code",
   "execution_count": 10,
   "id": "87b397c8",
   "metadata": {},
   "outputs": [
    {
     "data": {
      "text/plain": [
       "'Welocme Jill'"
      ]
     },
     "execution_count": 10,
     "metadata": {},
     "output_type": "execute_result"
    }
   ],
   "source": [
    "arg_func()"
   ]
  },
  {
   "cell_type": "markdown",
   "id": "c17b8c43",
   "metadata": {},
   "source": [
    "Now we assign another label to the function. "
   ]
  },
  {
   "cell_type": "code",
   "execution_count": 12,
   "id": "9ec03499",
   "metadata": {},
   "outputs": [],
   "source": [
    "arg_func2 = arg_func"
   ]
  },
  {
   "cell_type": "code",
   "execution_count": 13,
   "id": "4a952d08",
   "metadata": {},
   "outputs": [
    {
     "data": {
      "text/plain": [
       "<function __main__.arg_func(name='Jill')>"
      ]
     },
     "execution_count": 13,
     "metadata": {},
     "output_type": "execute_result"
    }
   ],
   "source": [
    "arg_func2"
   ]
  },
  {
   "cell_type": "markdown",
   "id": "aed6d2ec",
   "metadata": {},
   "source": [
    "Note that we are not using parentheses here because we are not calling the function **hello**, instead we are just passing a function object to the **arg_func2** variable."
   ]
  },
  {
   "cell_type": "code",
   "execution_count": 14,
   "id": "ff8ad783",
   "metadata": {},
   "outputs": [
    {
     "data": {
      "text/plain": [
       "'Welocme Jill'"
      ]
     },
     "execution_count": 14,
     "metadata": {},
     "output_type": "execute_result"
    }
   ],
   "source": [
    "arg_func2()"
   ]
  },
  {
   "cell_type": "markdown",
   "id": "cac08053",
   "metadata": {},
   "source": [
    "So what happens when we delete the name **hello**?"
   ]
  },
  {
   "cell_type": "code",
   "execution_count": 15,
   "id": "7404c897",
   "metadata": {},
   "outputs": [],
   "source": [
    "del arg_func"
   ]
  },
  {
   "cell_type": "code",
   "execution_count": 16,
   "id": "9460e32a",
   "metadata": {},
   "outputs": [
    {
     "data": {
      "text/plain": [
       "'Welocme Jill'"
      ]
     },
     "execution_count": 16,
     "metadata": {},
     "output_type": "execute_result"
    }
   ],
   "source": [
    "arg_func2()"
   ]
  },
  {
   "cell_type": "code",
   "execution_count": 17,
   "id": "78f8cb8a",
   "metadata": {},
   "outputs": [
    {
     "data": {
      "text/plain": [
       "'Welocme Jill'"
      ]
     },
     "execution_count": 17,
     "metadata": {},
     "output_type": "execute_result"
    }
   ],
   "source": [
    "arg_func2()"
   ]
  },
  {
   "cell_type": "markdown",
   "id": "b86b985c",
   "metadata": {},
   "source": [
    "Even though we deleted the name **arg_func**, the name **arg_func2** still points to our original function object. \n",
    "So, it is important to know that functions are objects that can be passed to other objects!\n",
    "\n",
    "Infect, **everything in Python is an object.**"
   ]
  },
  {
   "cell_type": "markdown",
   "id": "d1b614a1",
   "metadata": {},
   "source": [
    "### 4. Nested Functions OR Functions inside Functions\n",
    "So we've seen how we can treat functions as objects, now let's see how we can create functions inside of other functions or we can say nested functions:"
   ]
  },
  {
   "cell_type": "code",
   "execution_count": 4,
   "id": "cd11ef1d",
   "metadata": {},
   "outputs": [],
   "source": [
    "def arg_func(name='Jill'):\n",
    "    print('arg_func() function executed')\n",
    "    \n",
    "    def arg_func2():\n",
    "        return '\\t We are inside the arg_func2() function'\n",
    "    \n",
    "    def arg_func3():\n",
    "        return \"\\t We are inside the arg_func3() function\"\n",
    "    \n",
    "    print(arg_func2())\n",
    "    print(arg_func3())\n",
    "    print(\"Guys! we are back inside the arg_func() function\")"
   ]
  },
  {
   "cell_type": "code",
   "execution_count": 5,
   "id": "a4ba1068",
   "metadata": {
    "scrolled": true
   },
   "outputs": [
    {
     "name": "stdout",
     "output_type": "stream",
     "text": [
      "arg_func() function executed\n",
      "\t We are inside the arg_func2() function\n",
      "\t We are inside the arg_func3() function\n",
      "Guys! we are back inside the arg_func() function\n"
     ]
    }
   ],
   "source": [
    "arg_func()"
   ]
  },
  {
   "cell_type": "code",
   "execution_count": 6,
   "id": "9fca90e0",
   "metadata": {
    "scrolled": true
   },
   "outputs": [
    {
     "ename": "NameError",
     "evalue": "name 'arg_func3' is not defined",
     "output_type": "error",
     "traceback": [
      "\u001b[1;31m---------------------------------------------------------------------------\u001b[0m",
      "\u001b[1;31mNameError\u001b[0m                                 Traceback (most recent call last)",
      "\u001b[1;32m~\\AppData\\Local\\Temp\\ipykernel_11824\\3684657081.py\u001b[0m in \u001b[0;36m<module>\u001b[1;34m\u001b[0m\n\u001b[1;32m----> 1\u001b[1;33m \u001b[0marg_func3\u001b[0m\u001b[1;33m(\u001b[0m\u001b[1;33m)\u001b[0m\u001b[1;33m\u001b[0m\u001b[1;33m\u001b[0m\u001b[0m\n\u001b[0m",
      "\u001b[1;31mNameError\u001b[0m: name 'arg_func3' is not defined"
     ]
    }
   ],
   "source": [
    "arg_func3()"
   ]
  },
  {
   "cell_type": "markdown",
   "id": "dfd913b6",
   "metadata": {},
   "source": [
    "Note - the arg_func3() function is not defined outside of the arg_func() function. And hence we got this error."
   ]
  },
  {
   "cell_type": "markdown",
   "id": "8b1360bb",
   "metadata": {},
   "source": [
    "### 5. Returning Functions"
   ]
  },
  {
   "cell_type": "code",
   "execution_count": 7,
   "id": "bdfd3030",
   "metadata": {},
   "outputs": [],
   "source": [
    "def arg_func(name='Jill'):\n",
    "    \n",
    "    def arg_func2():\n",
    "        return '\\t We are inside the arg_func2() function'\n",
    "    \n",
    "    def arg_func3():\n",
    "        return \"\\t We are inside the arg_func3() function\"\n",
    "    \n",
    "    if name == 'Jill':\n",
    "        return arg_func2\n",
    "    else:\n",
    "        return arg_func3"
   ]
  },
  {
   "cell_type": "markdown",
   "id": "01bb384e",
   "metadata": {},
   "source": [
    "Now let's see what function is returned if we set x = hello(), note how the empty parentheses means that name has been defined as Jose."
   ]
  },
  {
   "cell_type": "code",
   "execution_count": 9,
   "id": "b6118339",
   "metadata": {},
   "outputs": [],
   "source": [
    "a = arg_func()"
   ]
  },
  {
   "cell_type": "code",
   "execution_count": 10,
   "id": "2b162bd8",
   "metadata": {},
   "outputs": [
    {
     "data": {
      "text/plain": [
       "<function __main__.arg_func.<locals>.arg_func2()>"
      ]
     },
     "execution_count": 10,
     "metadata": {},
     "output_type": "execute_result"
    }
   ],
   "source": [
    "a"
   ]
  },
  {
   "cell_type": "markdown",
   "id": "39f311bb",
   "metadata": {},
   "source": [
    "Wow! we can clearly see how **arg_func** is pointing to the **arg_func3** function inside of the **arg_func** function."
   ]
  },
  {
   "cell_type": "code",
   "execution_count": 11,
   "id": "f29fff70",
   "metadata": {},
   "outputs": [
    {
     "name": "stdout",
     "output_type": "stream",
     "text": [
      "\t We are inside the arg_func2() function\n"
     ]
    }
   ],
   "source": [
    "print(a())"
   ]
  },
  {
   "cell_type": "markdown",
   "id": "001b8e44",
   "metadata": {},
   "source": [
    "Let's take a quick look at the code again. \n",
    "\n",
    "In the <code>if</code>/<code>else</code> clause we are returning <code>arg_func2</code> and <code>arg_func3</code>, not <code>arg_func2()</code> and <code>arg_func3()</code>. \n",
    "\n",
    "This is because when you put a pair of parentheses after it, the function gets executed; whereas if you don’t put parentheses after it, then it can be passed around and can be assigned to other variables without executing it.\n",
    "\n",
    "When we write <code>a = arg_func()</code>, arg_func() gets executed and because the name is Jill by default, the function <code>arg_func2</code> is returned. If we change the statement to <code>a = arg_func(name = \"John\")</code> then the <code>arg_func3</code> function will be returned. We can also do <code>print(arg_func())</code> which outputs *This is inside the arg_func2() function*."
   ]
  },
  {
   "cell_type": "markdown",
   "id": "51542d6c",
   "metadata": {},
   "source": [
    "### 6. Passing Functions as Arguments\n",
    "Now let's see how we can pass functions as arguments into other functions:"
   ]
  },
  {
   "cell_type": "code",
   "execution_count": 12,
   "id": "f1ddd7a6",
   "metadata": {},
   "outputs": [],
   "source": [
    "def arg_func():\n",
    "    return 'Welcome Jill!'\n",
    "\n",
    "def arg_func2(func):\n",
    "    print('We are inside arg_func2 function.')\n",
    "    print(func())"
   ]
  },
  {
   "cell_type": "code",
   "execution_count": 13,
   "id": "d1e18204",
   "metadata": {},
   "outputs": [
    {
     "name": "stdout",
     "output_type": "stream",
     "text": [
      "We are inside arg_func2 function.\n",
      "Welcome Jill!\n"
     ]
    }
   ],
   "source": [
    "arg_func2(arg_func)"
   ]
  },
  {
   "cell_type": "markdown",
   "id": "c394d029",
   "metadata": {},
   "source": [
    "Great! Note how we can pass the functions as objects and then use them within other functions. Now we can get started with writing our first decorator:"
   ]
  },
  {
   "cell_type": "markdown",
   "id": "12b28181",
   "metadata": {},
   "source": [
    "### 7. Steps to Create a Decorator!\n",
    "\n",
    "1. Define a decorator function: Start by defining a regular Python function that will serve as your decorator. This function should take the original function or class as an argument.\n",
    "\n",
    "2. Define a wrapper function: Inside the decorator function, define another function called the \"wrapper\" function. This wrapper function will add the extra functionality or modify the behavior of the original function or class.\n",
    "\n",
    "3. Customize the wrapper function: Add any additional code or modifications you want to the wrapper function. This can include things like logging, timing, or authentication. You can also call the original function or class from within the wrapper function.\n",
    "\n",
    "4. Return the wrapper function: Once you've customized the wrapper function, return it from the decorator function. This is important because the wrapper function will replace the original function or class.\n",
    "\n",
    "5. Apply the decorator: To apply the decorator to a specific function or class, use the @decorator_name syntax right above the function or class definition. This tells Python to apply the decorator to that specific function or class.\n",
    "\n",
    "6. Call the decorated function or use the decorated class: Now that the decorator is applied, you can call the decorated function or create instances of the decorated class. The wrapper function will be executed instead, providing the additional functionality or modified behavior."
   ]
  },
  {
   "cell_type": "markdown",
   "id": "c934aba5",
   "metadata": {},
   "source": [
    "### 8. Create a Decorator Manually"
   ]
  },
  {
   "cell_type": "code",
   "execution_count": 14,
   "id": "f35c927c",
   "metadata": {},
   "outputs": [],
   "source": [
    "def decorator_function(original_function):\n",
    "    def wrapper_function():\n",
    "        # Code to be executed before the original function\n",
    "        print(\"Executing before the original function\")\n",
    "\n",
    "        # Call the original function\n",
    "        result = original_function()\n",
    "\n",
    "        # Code to be executed after the original function\n",
    "        print(\"Executing after the original function\")\n",
    "\n",
    "        return result\n",
    "\n",
    "    return wrapper_function\n",
    "\n",
    "def my_function():\n",
    "    print(\"Original function\")\n"
   ]
  },
  {
   "cell_type": "code",
   "execution_count": 15,
   "id": "47bbd6e9",
   "metadata": {},
   "outputs": [
    {
     "name": "stdout",
     "output_type": "stream",
     "text": [
      "Original function\n"
     ]
    }
   ],
   "source": [
    "my_function()"
   ]
  },
  {
   "cell_type": "code",
   "execution_count": 16,
   "id": "2a75a979",
   "metadata": {},
   "outputs": [],
   "source": [
    "# Reassign my_function\n",
    "my_function = decorator_function(my_function)"
   ]
  },
  {
   "cell_type": "code",
   "execution_count": 17,
   "id": "0aa5650c",
   "metadata": {},
   "outputs": [
    {
     "name": "stdout",
     "output_type": "stream",
     "text": [
      "Executing before the original function\n",
      "Original function\n",
      "Executing after the original function\n"
     ]
    }
   ],
   "source": [
    "my_function()"
   ]
  },
  {
   "cell_type": "markdown",
   "id": "ca2d007f",
   "metadata": {},
   "source": [
    "So what just happened here? A decorator simply wrapped the function and modified its behavior. Now let's understand how we can rewrite this code using the @ symbol, which is what Python uses for Decorators:"
   ]
  },
  {
   "cell_type": "markdown",
   "id": "bac2bd10",
   "metadata": {},
   "source": [
    "### 9. Create a Decorator using @, as python actually does"
   ]
  },
  {
   "cell_type": "code",
   "execution_count": 18,
   "id": "2352cec8",
   "metadata": {},
   "outputs": [],
   "source": [
    "def decorator_function(original_function):\n",
    "    def wrapper_function():\n",
    "        # Code to be executed before the original function\n",
    "        print(\"Executing before the original function\")\n",
    "\n",
    "        # Call the original function\n",
    "        result = original_function()\n",
    "\n",
    "        # Code to be executed after the original function\n",
    "        print(\"Executing after the original function\")\n",
    "\n",
    "        return result\n",
    "\n",
    "    return wrapper_function\n"
   ]
  },
  {
   "cell_type": "markdown",
   "id": "4dc82bc4",
   "metadata": {},
   "source": [
    "In this code snippet, we define a decorator called decorator_function. It takes the original_function as an argument. Inside the decorator, we define a nested function called wrapper_function, which will wrap around the original_function.\n",
    "\n",
    "The wrapper_function takes *args and **kwargs as arguments. This allows the decorator to handle functions with any number of positional and keyword arguments. Inside wrapper_function, we have the following steps:\n",
    "\n",
    "Executing code before the original function: Here, we print the message \"Executing before the original function\".\n",
    "\n",
    "Calling the original function: We invoke the original_function using the *args and **kwargs to pass any arguments that were received by wrapper_function.\n",
    "\n",
    "Executing code after the original function: After the original_function has finished executing, we print the message \"Executing after the original function\".\n",
    "\n",
    "Returning the result: The result returned by the original_function is stored in the result variable, and then it is returned by wrapper_function.\n",
    "\n",
    "Finally, the wrapper_function is returned from the decorator function, effectively replacing the original function with the wrapped version."
   ]
  },
  {
   "cell_type": "code",
   "execution_count": 19,
   "id": "97c53285",
   "metadata": {},
   "outputs": [],
   "source": [
    "@decorator_function\n",
    "def my_function():\n",
    "    print(\"Original function\")\n"
   ]
  },
  {
   "cell_type": "markdown",
   "id": "459706da",
   "metadata": {},
   "source": [
    "In this code, we apply the decorator_function decorator to the my_function. This is done using the @decorator_function syntax, which is a shorthand way of applying the decorator. It is equivalent to writing my_function = decorator_function(my_function).\n",
    "\n",
    "Now, let's see the output when we call my_function():"
   ]
  },
  {
   "cell_type": "code",
   "execution_count": 20,
   "id": "e3c22662",
   "metadata": {},
   "outputs": [
    {
     "name": "stdout",
     "output_type": "stream",
     "text": [
      "Executing before the original function\n",
      "Original function\n",
      "Executing after the original function\n"
     ]
    }
   ],
   "source": [
    "my_function()"
   ]
  },
  {
   "cell_type": "markdown",
   "id": "170e2b5e",
   "metadata": {},
   "source": [
    "When my_function() is called, the decorator kicks in. Instead of executing the original function directly, it calls the wrapper_function. The message \"Executing before the original function\" is printed before the original function is called. Then, the original function is executed and prints \"Original function\". Finally, the message \"Executing after the original function\" is printed.\n",
    "\n",
    "The output demonstrates how the decorator modifies the behavior of the original function by adding additional functionality before and after its execution."
   ]
  },
  {
   "cell_type": "markdown",
   "id": "1ddceae5",
   "metadata": {},
   "source": [
    "### 10. Conclude!\n",
    "**So, to summarise whata all we have learnt:**\n",
    "1. What are decorators?\n",
    "2. Create function without argument\n",
    "3. Create function by passing argument\n",
    "4. Nested functions\n",
    "5. Returning functions\n",
    "6. Passing functions as arguments\n",
    "7. Steps to create a decorator in python\n",
    "8. Creating a decorator manually\n",
    "9. Create a decorator using @\n",
    "\n",
    "**Great! You can now built a Decorator manually and also using the @ symbol in Python to automate this and clean our code. You'll run into Decorators a lot if you begin using Python for Web Development, such as Flask or Django!**"
   ]
  },
  {
   "cell_type": "markdown",
   "id": "52a1e0d0",
   "metadata": {},
   "source": [
    "**<<<<<<<<<<<<<<<<<<<<<<<<<<<<<<< END OF DOCUMENT >>>>>>>>>>>>>>>>>>>>>>>>>>>>>>>>>>>>>>>>>>>>>>>>**"
   ]
  }
 ],
 "metadata": {
  "kernelspec": {
   "display_name": "Python 3 (ipykernel)",
   "language": "python",
   "name": "python3"
  },
  "language_info": {
   "codemirror_mode": {
    "name": "ipython",
    "version": 3
   },
   "file_extension": ".py",
   "mimetype": "text/x-python",
   "name": "python",
   "nbconvert_exporter": "python",
   "pygments_lexer": "ipython3",
   "version": "3.9.13"
  }
 },
 "nbformat": 4,
 "nbformat_minor": 5
}
