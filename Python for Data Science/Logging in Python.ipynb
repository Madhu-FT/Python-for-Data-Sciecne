{
 "cells": [
  {
   "cell_type": "markdown",
   "id": "e3cb6f73",
   "metadata": {},
   "source": [
    "\n",
    "\n",
    "___\n",
    "\n",
    "<a href='https://fingertips.co.in/'><img src='ft_logo_new.png'/></a>\n",
    "___\n",
    "<center><em>Content Copyright by Fingertips Data Intelligence Solutions</em></center>"
   ]
  },
  {
   "cell_type": "markdown",
   "metadata": {},
   "source": [
    "## Logging:\n",
    "Tracking events that happens when a software runs. It is important for software developing, debugging and running. If we don't have any logging record and if our program crashes, there are few chances we can detect cause of the problem. And even if we do so, it will consume a lot of time. With logging, we can leave a trail of breadcrumbs so that if something goes wrong, we can determine cause of problem.\n",
    "\n",
    "**Why printing option is not good?** It can solve simple issues but not complex ones. So always try to use logging instead. \n",
    "\n",
    "Python has built-in module **logging** which allows writing 'status messages' to file/output streams. The file can contain info on which part code is executed and what problems have been arisen.\n",
    "\n",
    "**5 built-in Levels of Log message:**\n",
    "1. Debug: used to give detailed info, typically of interest only when diagonising problems.(numerica value=10)\n",
    "2. Info: used to confirm that things are working as expected.(numerica value=20)\n",
    "3. Warning: used as indication that something unexpected happened, or some problem in near future.(numerica value=30)\n",
    "4. Error: this tells due to more serious problem, software has not been able to perform some function.(numerica value=40)\n",
    "5. Critical: tells serious error, indicating problem itself may be unable to continue running.(numerica value=50)\n",
    "\n",
    "Logging module is packed with several features:\n",
    "1. consatant: items with all caps\n",
    "2. classes: capatalize items\n",
    "3. methods: lowercase items"
   ]
  },
  {
   "cell_type": "code",
   "execution_count": 1,
   "metadata": {},
   "outputs": [],
   "source": [
    "import logging as lg\n",
    "#lg is alias(short name)"
   ]
  },
  {
   "cell_type": "code",
   "execution_count": 3,
   "metadata": {},
   "outputs": [
    {
     "name": "stderr",
     "output_type": "stream",
     "text": [
      "WARNING:root:This is a warning message\n",
      "ERROR:root:This is an error message\n",
      "CRITICAL:root:This is a critical message\n"
     ]
    }
   ],
   "source": [
    "lg.debug('This is a debug message')\n",
    "lg.info('This is an info message')\n",
    "lg.warning('This is a warning message')\n",
    "lg.error('This is an error message')\n",
    "lg.critical('This is a critical message')"
   ]
  },
  {
   "cell_type": "code",
   "execution_count": 19,
   "metadata": {
    "scrolled": true
   },
   "outputs": [
    {
     "data": {
      "text/plain": [
       "'C:\\\\Users\\\\madhu\\\\Documents\\\\Python for Data Science'"
      ]
     },
     "execution_count": 19,
     "metadata": {},
     "output_type": "execute_result"
    }
   ],
   "source": [
    "pwd()"
   ]
  },
  {
   "cell_type": "code",
   "execution_count": 20,
   "metadata": {},
   "outputs": [],
   "source": [
    "import os"
   ]
  },
  {
   "cell_type": "code",
   "execution_count": 21,
   "metadata": {},
   "outputs": [],
   "source": [
    "#lg.shutdown()"
   ]
  },
  {
   "cell_type": "code",
   "execution_count": 22,
   "metadata": {
    "scrolled": true
   },
   "outputs": [],
   "source": [
    "#create a directory\n",
    "os.mkdir('log_dir')\n",
    "#so now we will be working in 'loggingDir' untill and unless we call or create another one"
   ]
  },
  {
   "cell_type": "markdown",
   "metadata": {},
   "source": [
    "Basic Configurations:\n",
    "\n",
    "Some of the commonly used parameters for basicConfig() are the following:\n",
    "\n",
    "1. level: The root logger will be set to the specified severity level.\n",
    "2. filename: This specifies the file.\n",
    "3. filemode: If filename is given, the file is opened in this mode. The default is a, which means append.\n",
    "4. format: This is the format of the log message."
   ]
  },
  {
   "cell_type": "code",
   "execution_count": 23,
   "metadata": {},
   "outputs": [],
   "source": [
    "#tab afetr . for functions in lg, and shift+tab after function for details\n",
    "#create a new log file inside this directory\n",
    "#level=INFO(by-default, and you can change accordingly)\n",
    "#format=optional(you can apply if you wish to, like for timestamps etc.)\n",
    "\n",
    "lg.basicConfig(filename='C:\\\\Users\\\\madhu\\\\Documents\\\\Python for Data Science\\\\log_dir\\\\test.log'\n",
    ", level=lg.INFO, format='%(asctime)s %(message)s')"
   ]
  },
  {
   "cell_type": "code",
   "execution_count": 24,
   "metadata": {},
   "outputs": [],
   "source": [
    "lg.info('I am going to start my program, writing in info')\n",
    "\n",
    "#go and check file in directory\n",
    "#DONE..."
   ]
  },
  {
   "cell_type": "code",
   "execution_count": 25,
   "metadata": {},
   "outputs": [],
   "source": [
    "lg.warning('this is my first warning')"
   ]
  },
  {
   "cell_type": "code",
   "execution_count": 26,
   "metadata": {},
   "outputs": [],
   "source": [
    "lg.error('this is error')"
   ]
  },
  {
   "cell_type": "code",
   "execution_count": 27,
   "metadata": {},
   "outputs": [],
   "source": [
    "lg.debug('this is dubug')\n",
    "#level is info"
   ]
  },
  {
   "cell_type": "markdown",
   "metadata": {},
   "source": [
    "### printing is not a good approach, instead use logging"
   ]
  },
  {
   "cell_type": "code",
   "execution_count": 28,
   "metadata": {},
   "outputs": [],
   "source": [
    "#divide function\n",
    "#now don't focus on try and except blocks, just focus on logging\n",
    "def div(a,b):\n",
    "    try:\n",
    "        lg.info('This is begin of divide program')\n",
    "        lg.info(\"Arguments are \"+str(a)+\" and \"+str(b))\n",
    "        div=a/b\n",
    "        return div\n",
    "    except Exception as e:\n",
    "        print('this is except block, print is not prefered, try to use log instead.')#you can't see this print in log file,\n",
    "        lg.error('error has occured')\n",
    "        lg.exception(str(e))\n",
    "#only logging functions we can see in log file"
   ]
  },
  {
   "cell_type": "code",
   "execution_count": 29,
   "metadata": {},
   "outputs": [
    {
     "name": "stdout",
     "output_type": "stream",
     "text": [
      "this is except block, print is not prefered, try to use log instead.\n"
     ]
    }
   ],
   "source": [
    "#call function div\n",
    "div(4,2)\n",
    "div(5,0)\n",
    "#go and check 'test.log' in directory, and you will get each information with timestamps."
   ]
  },
  {
   "cell_type": "code",
   "execution_count": 30,
   "metadata": {},
   "outputs": [],
   "source": [
    "#to stop logging\n",
    "lg.shutdown()"
   ]
  },
  {
   "cell_type": "code",
   "execution_count": 31,
   "metadata": {},
   "outputs": [],
   "source": [
    "#always try to use log instead of print, if its not asked"
   ]
  },
  {
   "cell_type": "code",
   "execution_count": 28,
   "metadata": {},
   "outputs": [
    {
     "data": {
      "text/plain": [
       "'C:\\\\Users\\\\madhu\\\\Documents\\\\Python for Data Science'"
      ]
     },
     "execution_count": 28,
     "metadata": {},
     "output_type": "execute_result"
    }
   ],
   "source": [
    "%pwd\n",
    "# or pwd()"
   ]
  },
  {
   "cell_type": "code",
   "execution_count": 3,
   "metadata": {},
   "outputs": [],
   "source": [
    "#another logger\n",
    "import logging as lg"
   ]
  },
  {
   "cell_type": "code",
   "execution_count": 4,
   "metadata": {},
   "outputs": [
    {
     "ename": "FileExistsError",
     "evalue": "[WinError 183] Cannot create a file when that file already exists: 'log_dir2'",
     "output_type": "error",
     "traceback": [
      "\u001b[1;31m---------------------------------------------------------------------------\u001b[0m",
      "\u001b[1;31mFileExistsError\u001b[0m                           Traceback (most recent call last)",
      "\u001b[1;32m~\\AppData\\Local\\Temp\\ipykernel_2888\\1759164480.py\u001b[0m in \u001b[0;36m<module>\u001b[1;34m\u001b[0m\n\u001b[0;32m      1\u001b[0m \u001b[1;31m#create a directory\u001b[0m\u001b[1;33m\u001b[0m\u001b[1;33m\u001b[0m\u001b[0m\n\u001b[0;32m      2\u001b[0m \u001b[1;32mimport\u001b[0m \u001b[0mos\u001b[0m\u001b[1;33m\u001b[0m\u001b[1;33m\u001b[0m\u001b[0m\n\u001b[1;32m----> 3\u001b[1;33m \u001b[0mos\u001b[0m\u001b[1;33m.\u001b[0m\u001b[0mmkdir\u001b[0m\u001b[1;33m(\u001b[0m\u001b[1;34m'log_dir2'\u001b[0m\u001b[1;33m)\u001b[0m\u001b[1;33m\u001b[0m\u001b[1;33m\u001b[0m\u001b[0m\n\u001b[0m",
      "\u001b[1;31mFileExistsError\u001b[0m: [WinError 183] Cannot create a file when that file already exists: 'log_dir2'"
     ]
    }
   ],
   "source": [
    "#create a directory\n",
    "import os\n",
    "os.mkdir('log_dir2')"
   ]
  },
  {
   "cell_type": "code",
   "execution_count": 8,
   "metadata": {},
   "outputs": [],
   "source": [
    "lg.basicConfig(filename='C:\\\\Users\\\\madhu\\\\Documents\\\\Python for Data Science\\\\log_dir2\\\\test.log'\n",
    ", level=lg.INFO, format='%(asctime)s %(message)s')"
   ]
  },
  {
   "cell_type": "markdown",
   "metadata": {},
   "source": [
    "**QUESTION**\n",
    "1. create a logger for sum function."
   ]
  },
  {
   "cell_type": "code",
   "execution_count": 10,
   "metadata": {},
   "outputs": [],
   "source": [
    "lg.info('This is info in log_dir2-test.log')"
   ]
  },
  {
   "cell_type": "code",
   "execution_count": 15,
   "metadata": {},
   "outputs": [],
   "source": [
    "def add(*args):\n",
    "    sum=0\n",
    "    lg.info('this is begin of sum function')\n",
    "    for i in args:\n",
    "        lg.info(str(i))\n",
    "        sum=sum+i\n",
    "    lg.info(f'sum = {sum}')\n",
    "    return(sum)"
   ]
  },
  {
   "cell_type": "code",
   "execution_count": 16,
   "metadata": {},
   "outputs": [
    {
     "data": {
      "text/plain": [
       "'2023-08-07 16:15:15,599 This is info in log_dir2\\test.log\\n2023-08-07 16:15:31,303 This is info in log_dir2-test.log\\n2023-08-07 16:16:19,030 this is begin of sum function\\n2023-08-07 16:16:19,031 1\\n2023-08-07 16:16:19,031 2\\n2023-08-07 16:16:19,031 3\\n2023-08-07 16:16:19,031 4\\n2023-08-07 16:16:19,031 5\\n'"
      ]
     },
     "execution_count": 16,
     "metadata": {},
     "output_type": "execute_result"
    }
   ],
   "source": [
    "f=open(\"C:\\\\Users\\\\madhu\\\\Documents\\\\Python for Data Science\\\\log_dir2\\\\test.log\", \"r\")\n",
    "f.read()"
   ]
  },
  {
   "cell_type": "code",
   "execution_count": 17,
   "metadata": {},
   "outputs": [
    {
     "data": {
      "text/plain": [
       "15"
      ]
     },
     "execution_count": 17,
     "metadata": {},
     "output_type": "execute_result"
    }
   ],
   "source": [
    "add(1,2,3,4,5)"
   ]
  },
  {
   "cell_type": "code",
   "execution_count": 32,
   "metadata": {},
   "outputs": [],
   "source": [
    "lg.shutdown()\n",
    "#log_dir2"
   ]
  },
  {
   "cell_type": "markdown",
   "metadata": {},
   "source": [
    "**<<<<<<<<<<<<<<<<<<<<<<<<<<<<<<<<<<<<<<<<<<<<<< END OF DOCUMENT >>>>>>>>>>>>>>>>>>>>>>>>>>>>>>>>>>>>>>>>>>>>>>>>>**"
   ]
  }
 ],
 "metadata": {
  "kernelspec": {
   "display_name": "Python 3 (ipykernel)",
   "language": "python",
   "name": "python3"
  },
  "language_info": {
   "codemirror_mode": {
    "name": "ipython",
    "version": 3
   },
   "file_extension": ".py",
   "mimetype": "text/x-python",
   "name": "python",
   "nbconvert_exporter": "python",
   "pygments_lexer": "ipython3",
   "version": "3.9.13"
  }
 },
 "nbformat": 4,
 "nbformat_minor": 2
}
