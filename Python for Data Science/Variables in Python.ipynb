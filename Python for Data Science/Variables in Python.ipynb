{
 "cells": [
  {
   "cell_type": "markdown",
   "id": "3663bc66",
   "metadata": {},
   "source": [
    "\n",
    "\n",
    "___\n",
    "\n",
    "<a href='https://fingertips.co.in/'><img src='ft_logo_new.png'/></a>\n",
    "___\n",
    "<center><em>Content Copyright by Fingertips Data Intelligence Solutions</em></center>"
   ]
  },
  {
   "cell_type": "markdown",
   "id": "65e3c79f",
   "metadata": {},
   "source": [
    "# Variables in Python\n",
    "A Python variable is a reserved memory location to store values.A variable is created the moment\n",
    "you first assign a value to it."
   ]
  },
  {
   "cell_type": "markdown",
   "id": "217e399a",
   "metadata": {},
   "source": [
    "## Agenda!\n",
    "1. Variable Creation\n",
    "2. Variable Overwriting\n",
    "3. Single & Multiple Assignment"
   ]
  },
  {
   "cell_type": "markdown",
   "id": "89c4d40b",
   "metadata": {},
   "source": [
    "### Variable Creation"
   ]
  },
  {
   "cell_type": "code",
   "execution_count": 23,
   "id": "ba0e2f9c",
   "metadata": {},
   "outputs": [
    {
     "name": "stdout",
     "output_type": "stream",
     "text": [
      "10\n"
     ]
    }
   ],
   "source": [
    "value=10\n",
    "print(value)"
   ]
  },
  {
   "cell_type": "code",
   "execution_count": 24,
   "id": "04f7308c",
   "metadata": {},
   "outputs": [
    {
     "data": {
      "text/plain": [
       "2582486477392"
      ]
     },
     "execution_count": 24,
     "metadata": {},
     "output_type": "execute_result"
    }
   ],
   "source": [
    "'''\n",
    "id() function returns the “identity” of the object.\n",
    "The identity of an object - Is an integer\n",
    " - Guaranteed to be unique\n",
    " - Constant for this object during its lifetime.\n",
    "'''\n",
    "id(value)"
   ]
  },
  {
   "cell_type": "code",
   "execution_count": 25,
   "id": "c6f43d0b",
   "metadata": {},
   "outputs": [
    {
     "data": {
      "text/plain": [
       "'0x25948306a50'"
      ]
     },
     "execution_count": 25,
     "metadata": {},
     "output_type": "execute_result"
    }
   ],
   "source": [
    "# Memory address of the variable\n",
    "hex(id(value)) "
   ]
  },
  {
   "cell_type": "code",
   "execution_count": 26,
   "id": "6edf353c",
   "metadata": {},
   "outputs": [
    {
     "name": "stdout",
     "output_type": "stream",
     "text": [
      "100 , <class 'int'>, 0x259483355d0\n",
      "100 , <class 'int'>, 0x259483355d0\n",
      "100 , <class 'int'>, 0x259483355d0\n"
     ]
    }
   ],
   "source": [
    "value1 = 100 #Creates an integer with value 100 and assigns the variable value1 to pointing to memory location '0x2d865676a50' \n",
    "value2 = 100             # Create new variable value2 which will point to value 100. value1 & value2 will point to '0x2d865676a50'\n",
    "value3 = value2         # variable value3 will also point to the same location where value1 & value2 are pointing\n",
    "print(f'{value1} , {type(value1)}, {hex(id(value1))}') # Variable value1 is pointing to memory location '0x2d865676a50'\n",
    "print(f'{value2} , {type(value2)}, {hex(id(value2))}') # Variable value2 is pointing to memory location '0x2d865676a50'\n",
    "print(f'{value3} , {type(value3)}, {hex(id(value3))}') # Variable value3 is pointing to memory location '0x2d865676a50'"
   ]
  },
  {
   "cell_type": "markdown",
   "id": "741f0449",
   "metadata": {},
   "source": [
    "### Variable Overwriting"
   ]
  },
  {
   "cell_type": "code",
   "execution_count": 27,
   "id": "86b724b4",
   "metadata": {},
   "outputs": [
    {
     "data": {
      "text/plain": [
       "300"
      ]
     },
     "execution_count": 27,
     "metadata": {},
     "output_type": "execute_result"
    }
   ],
   "source": [
    "value = 100\n",
    "value = value + 200 # Variable Overwriting\n",
    "value\n",
    "# value is changed to 300 from 100"
   ]
  },
  {
   "cell_type": "markdown",
   "id": "69442187",
   "metadata": {},
   "source": [
    "### Single and Multiple Assignment "
   ]
  },
  {
   "cell_type": "code",
   "execution_count": 28,
   "id": "ab49350d",
   "metadata": {},
   "outputs": [
    {
     "name": "stdout",
     "output_type": "stream",
     "text": [
      "100 89.78 Python\n"
     ]
    }
   ],
   "source": [
    "#Single value assignment\n",
    "\n",
    "value1 = 100 # Integer variable\n",
    "value2 = 89.78 # Float Variable\n",
    "value3 = \"Python\" # String variable(\" \") or (' ')\n",
    "\n",
    "print(value1, value2, value3)"
   ]
  },
  {
   "cell_type": "code",
   "execution_count": 29,
   "id": "11ef3be6",
   "metadata": {},
   "outputs": [
    {
     "name": "stdout",
     "output_type": "stream",
     "text": [
      "220 45.78 Machine Learning\n"
     ]
    }
   ],
   "source": [
    "#Multiple value assignment\n",
    "\n",
    "value1, value2, value3 = 220, 45.78, 'Machine Learning'\n",
    "print(value1, value2, value3)"
   ]
  },
  {
   "cell_type": "code",
   "execution_count": 30,
   "id": "56cf0f69",
   "metadata": {},
   "outputs": [
    {
     "name": "stdout",
     "output_type": "stream",
     "text": [
      "coding coding coding\n"
     ]
    }
   ],
   "source": [
    "#assigning one value to all the variables\n",
    "\n",
    "val1 = val2 = val3 = 'coding'\n",
    "print(val1, val2, val3)"
   ]
  },
  {
   "cell_type": "markdown",
   "id": "ff0ec173",
   "metadata": {},
   "source": [
    "**<<<<<<<<<<<<<<<<<<<<<<<<<<<<<<<<<<<<<<<<<<< END OF DOCUMENT >>>>>>>>>>>>>>>>>>>>>>>>>>>>>>>>>>>>>>>>>>>>>>>>**"
   ]
  }
 ],
 "metadata": {
  "kernelspec": {
   "display_name": "Python 3 (ipykernel)",
   "language": "python",
   "name": "python3"
  },
  "language_info": {
   "codemirror_mode": {
    "name": "ipython",
    "version": 3
   },
   "file_extension": ".py",
   "mimetype": "text/x-python",
   "name": "python",
   "nbconvert_exporter": "python",
   "pygments_lexer": "ipython3",
   "version": "3.9.13"
  }
 },
 "nbformat": 4,
 "nbformat_minor": 5
}
