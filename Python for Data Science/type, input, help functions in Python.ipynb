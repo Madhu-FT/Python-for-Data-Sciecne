{
 "cells": [
  {
   "cell_type": "markdown",
   "id": "3663bc66",
   "metadata": {},
   "source": [
    "\n",
    "\n",
    "___\n",
    "\n",
    "<a href='https://fingertips.co.in/'><img src='ft_logo_new.png'/></a>\n",
    "___\n",
    "<center><em>Content Copyright by Fingertips Data Intelligence Solutions</em></center>"
   ]
  },
  {
   "cell_type": "markdown",
   "id": "d0607f5c",
   "metadata": {},
   "source": [
    "# type(), input() and help() functions "
   ]
  },
  {
   "cell_type": "markdown",
   "id": "34f9557b",
   "metadata": {},
   "source": [
    "## Agenda!\n",
    "1. type()\n",
    "2. input()\n",
    "3. help()"
   ]
  },
  {
   "cell_type": "markdown",
   "id": "4daa1c36",
   "metadata": {},
   "source": [
    "### type() \n",
    "The type() function is used to get the type of an object."
   ]
  },
  {
   "cell_type": "code",
   "execution_count": 1,
   "id": "cb11c654",
   "metadata": {},
   "outputs": [
    {
     "name": "stdout",
     "output_type": "stream",
     "text": [
      "<class 'int'>, <class 'float'>, <class 'str'>\n"
     ]
    }
   ],
   "source": [
    "print(f'{type(45)}, {type(67.90)}, {type(\"python\")}')"
   ]
  },
  {
   "cell_type": "code",
   "execution_count": 3,
   "id": "141f26bc",
   "metadata": {},
   "outputs": [],
   "source": [
    "value1 = 100 \n",
    "value2 = 89.78 \n",
    "value3 = \"Python\" "
   ]
  },
  {
   "cell_type": "code",
   "execution_count": 4,
   "id": "07c12d06",
   "metadata": {},
   "outputs": [
    {
     "name": "stdout",
     "output_type": "stream",
     "text": [
      "<class 'int'>, <class 'float'>, <class 'str'>\n"
     ]
    }
   ],
   "source": [
    "#type()\n",
    "\n",
    "print(f'{type(value1)}, {type(value2)}, {type(value3)}')"
   ]
  },
  {
   "cell_type": "markdown",
   "id": "1a895579",
   "metadata": {},
   "source": [
    "### input() \n",
    "1. Python input() function is used to take user input. \n",
    "2. By default, it returns the user input in form of a string."
   ]
  },
  {
   "cell_type": "code",
   "execution_count": 5,
   "id": "4a63cb51",
   "metadata": {},
   "outputs": [
    {
     "name": "stdout",
     "output_type": "stream",
     "text": [
      "Enter your name!yuiy\n",
      "Enter your age!uio\n",
      "Type of Name - <class 'str'>\n",
      "Type of Age - <class 'str'>\n"
     ]
    }
   ],
   "source": [
    "#input()\n",
    "\n",
    "name=input(\"Enter your name!\") #input a string\n",
    "age=input(\"Enter your age!\")   #input a number\n",
    "print(f'Type of Name - {type(name)}\\nType of Age - {type(age)}') \n",
    "#By default, it returns the user input in form of a string."
   ]
  },
  {
   "cell_type": "markdown",
   "id": "e9a6f95c",
   "metadata": {},
   "source": [
    "### help()\n",
    "help() - The Python help function is used to display the documentation of modules, functions, classes, keywords, etc."
   ]
  },
  {
   "cell_type": "code",
   "execution_count": 6,
   "id": "1fa271b5",
   "metadata": {
    "scrolled": false
   },
   "outputs": [
    {
     "name": "stdout",
     "output_type": "stream",
     "text": [
      "Help on built-in function print in module builtins:\n",
      "\n",
      "print(...)\n",
      "    print(value, ..., sep=' ', end='\\n', file=sys.stdout, flush=False)\n",
      "    \n",
      "    Prints the values to a stream, or to sys.stdout by default.\n",
      "    Optional keyword arguments:\n",
      "    file:  a file-like object (stream); defaults to the current sys.stdout.\n",
      "    sep:   string inserted between values, default a space.\n",
      "    end:   string appended after the last value, default a newline.\n",
      "    flush: whether to forcibly flush the stream.\n",
      "\n"
     ]
    }
   ],
   "source": [
    "#help()-->Press 'shift+tab' for python documentation\n",
    "help(print)"
   ]
  },
  {
   "cell_type": "markdown",
   "id": "67b8a915",
   "metadata": {},
   "source": [
    "**<<<<<<<<<<<<<<<<<<<<<<<<<<<<<<<<<<<<<<<<<<< END OF DOCUMENT >>>>>>>>>>>>>>>>>>>>>>>>>>>>>>>>>>>>>>>>>>>>>>>>**"
   ]
  }
 ],
 "metadata": {
  "kernelspec": {
   "display_name": "Python 3 (ipykernel)",
   "language": "python",
   "name": "python3"
  },
  "language_info": {
   "codemirror_mode": {
    "name": "ipython",
    "version": 3
   },
   "file_extension": ".py",
   "mimetype": "text/x-python",
   "name": "python",
   "nbconvert_exporter": "python",
   "pygments_lexer": "ipython3",
   "version": "3.9.13"
  }
 },
 "nbformat": 4,
 "nbformat_minor": 5
}
