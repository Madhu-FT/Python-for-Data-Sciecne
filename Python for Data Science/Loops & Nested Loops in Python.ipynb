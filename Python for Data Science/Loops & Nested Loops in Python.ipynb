{
 "cells": [
  {
   "cell_type": "markdown",
   "id": "e3cb6f73",
   "metadata": {},
   "source": [
    "\n",
    "\n",
    "___\n",
    "\n",
    "<a href='https://fingertips.co.in/'><img src='ft_logo_new.png'/></a>\n",
    "___\n",
    "<center><em>Content Copyright by Fingertips Data Intelligence Solutions</em></center>"
   ]
  },
  {
   "cell_type": "markdown",
   "metadata": {},
   "source": [
    "# Loops & Nested Loops in Python"
   ]
  },
  {
   "cell_type": "markdown",
   "metadata": {},
   "source": [
    "## Agenda!\n",
    "1. While loop\n",
    "2. while-else\n",
    "3. For loop\n",
    "4. for-else\n",
    "5. Nested loops\n",
    "6. Drawing patterns "
   ]
  },
  {
   "cell_type": "markdown",
   "metadata": {},
   "source": [
    "## WHILE loop"
   ]
  },
  {
   "cell_type": "code",
   "execution_count": 3,
   "metadata": {
    "scrolled": true
   },
   "outputs": [
    {
     "name": "stdout",
     "output_type": "stream",
     "text": [
      "0\n",
      "1\n",
      "2\n",
      "3\n",
      "4\n",
      "5\n",
      "6\n",
      "7\n",
      "8\n",
      "9\n",
      "10\n"
     ]
    }
   ],
   "source": [
    "initial_speed, final_spped=0,10\n",
    "#print at every stage your speed increases\n",
    "while(initial_speed<=final_spped): #untill its True\n",
    "    print(initial_speed)\n",
    "    initial_speed=initial_speed+1"
   ]
  },
  {
   "cell_type": "code",
   "execution_count": 4,
   "metadata": {},
   "outputs": [
    {
     "name": "stdout",
     "output_type": "stream",
     "text": [
      "speed\n",
      "speed\n",
      "speed\n",
      "speed\n",
      "speed\n",
      "speed\n",
      "speed\n",
      "speed\n",
      "speed\n",
      "speed\n"
     ]
    }
   ],
   "source": [
    "initial_speed, final_spped=0,10\n",
    "count=1\n",
    "#print speed 10 times\n",
    "while(initial_speed<=final_spped):\n",
    "    print('speed')\n",
    "    count=count+1\n",
    "    if count>10:\n",
    "        break       #breaks the loop\n",
    "        "
   ]
  },
  {
   "cell_type": "markdown",
   "metadata": {},
   "source": [
    "### while-else  (only in python)\n",
    "else will be executed only when whole while is executed successfully"
   ]
  },
  {
   "cell_type": "code",
   "execution_count": 5,
   "metadata": {
    "scrolled": true
   },
   "outputs": [
    {
     "name": "stdout",
     "output_type": "stream",
     "text": [
      "0\n",
      "1\n",
      "2\n",
      "3\n",
      "4\n",
      "5\n",
      "6\n",
      "7\n",
      "8\n",
      "9\n",
      "10\n",
      "out\n"
     ]
    }
   ],
   "source": [
    "initial_speed, final_spped=0,10\n",
    "#print at every stage your speed increases\n",
    "while(initial_speed<=final_spped): #untill its True\n",
    "    print(initial_speed)\n",
    "    initial_speed=initial_speed+1\n",
    "else: print('out')"
   ]
  },
  {
   "cell_type": "code",
   "execution_count": 6,
   "metadata": {},
   "outputs": [
    {
     "name": "stdout",
     "output_type": "stream",
     "text": [
      "0\n",
      "1\n",
      "2\n",
      "3\n",
      "4\n",
      "5\n",
      "6\n",
      "7\n",
      "8\n",
      "9\n",
      "10\n",
      "while\n",
      "while\n",
      "while\n",
      "while\n"
     ]
    }
   ],
   "source": [
    "initial_speed, final_spped=0,10\n",
    "j=1\n",
    "#print at every stage your speed increases\n",
    "while(initial_speed<=final_spped): #untill its True\n",
    "    print(initial_speed)\n",
    "    initial_speed=initial_speed+1\n",
    "else: \n",
    "    while j<5:\n",
    "        print('while')\n",
    "        j+=1"
   ]
  },
  {
   "cell_type": "markdown",
   "metadata": {},
   "source": [
    "## For loop"
   ]
  },
  {
   "cell_type": "code",
   "execution_count": 11,
   "metadata": {},
   "outputs": [],
   "source": [
    "b='We will learn all about loops in Python'"
   ]
  },
  {
   "cell_type": "code",
   "execution_count": 12,
   "metadata": {
    "scrolled": true
   },
   "outputs": [
    {
     "name": "stdout",
     "output_type": "stream",
     "text": [
      "W\n",
      "e\n",
      " \n",
      "w\n",
      "i\n",
      "l\n",
      "l\n",
      " \n",
      "l\n",
      "e\n",
      "a\n",
      "r\n",
      "n\n",
      " \n",
      "a\n",
      "l\n",
      "l\n",
      " \n",
      "a\n",
      "b\n",
      "o\n",
      "u\n",
      "t\n",
      " \n",
      "l\n",
      "o\n",
      "o\n",
      "p\n",
      "s\n",
      " \n",
      "i\n",
      "n\n",
      " \n",
      "P\n",
      "y\n",
      "t\n",
      "h\n",
      "o\n",
      "n\n"
     ]
    }
   ],
   "source": [
    "for i in b:\n",
    "    print(i)"
   ]
  },
  {
   "cell_type": "markdown",
   "metadata": {},
   "source": [
    "### for-else\n",
    "else will be executed only when for is exhausted completely(same as while-else)"
   ]
  },
  {
   "cell_type": "code",
   "execution_count": 13,
   "metadata": {},
   "outputs": [
    {
     "name": "stdout",
     "output_type": "stream",
     "text": [
      "W\n",
      "e\n",
      " \n",
      "w\n",
      "i\n",
      "l\n",
      "l\n",
      " \n",
      "l\n",
      "e\n",
      "a\n",
      "r\n",
      "n\n",
      " \n",
      "a\n",
      "l\n",
      "l\n",
      " \n",
      "a\n",
      "b\n",
      "o\n",
      "u\n",
      "t\n",
      " \n",
      "l\n",
      "o\n",
      "o\n",
      "p\n",
      "s\n",
      " \n",
      "i\n",
      "n\n",
      " \n",
      "P\n",
      "y\n",
      "t\n",
      "h\n",
      "o\n",
      "n\n",
      "last char was n\n",
      "For loop is exhausted completely\n"
     ]
    }
   ],
   "source": [
    "for i in b:\n",
    "    print(i)\n",
    "else:\n",
    "    if(i=='n'):\n",
    "        print('last char was n')\n",
    "    print('For loop is exhausted completely')"
   ]
  },
  {
   "cell_type": "markdown",
   "metadata": {},
   "source": [
    "### Nested loops\n",
    "Loop inside loop are called nested loops."
   ]
  },
  {
   "cell_type": "markdown",
   "metadata": {},
   "source": [
    "### nested for-loop"
   ]
  },
  {
   "cell_type": "code",
   "execution_count": 21,
   "metadata": {},
   "outputs": [
    {
     "name": "stdout",
     "output_type": "stream",
     "text": [
      "* \r\n",
      "* * \r\n",
      "* * * \r\n",
      "* * * * \r\n",
      "* * * * * \r\n",
      "* * * * * * \r\n",
      "* * * * * * * \r\n",
      "* * * * * * * * \r\n",
      "* * * * * * * * * \r\n",
      "* * * * * * * * * * \r\n"
     ]
    }
   ],
   "source": [
    "#10-rows, 10-columns, ptint pattern *\n",
    "for i in range(10):\n",
    "    for j in range(i+1):\n",
    "        print('*', end=' ')\n",
    "    print('\\r')\n",
    "#\\n , \\r, end='', \"\", \"  \" etc."
   ]
  },
  {
   "cell_type": "code",
   "execution_count": 23,
   "metadata": {},
   "outputs": [
    {
     "name": "stdout",
     "output_type": "stream",
     "text": [
      "6\n",
      "* * * * * * * \n",
      " * * * * * * \n",
      "  * * * * * \n",
      "   * * * * \n",
      "    * * * \n",
      "     * * \n",
      "      * \n"
     ]
    }
   ],
   "source": [
    "n=int(input())\n",
    "m=0\n",
    "for i in range(n,-1,-1):       #this loop is for moving up to down\n",
    "    for j in range(0,m):    #this loop is for creating side spaces\n",
    "        print(end=' ')\n",
    "    m=m+1\n",
    "    for j in range(0,i+1):   #this loop is for creating '*' and middle spaces\n",
    "        print('*', end=\" \")\n",
    "    print('\\r')"
   ]
  },
  {
   "cell_type": "code",
   "execution_count": 26,
   "metadata": {},
   "outputs": [
    {
     "name": "stdout",
     "output_type": "stream",
     "text": [
      "enter number of rows6\n",
      "           \n",
      "         1 \n",
      "       1 2 3 \n",
      "     1 2 3 4 5 \n",
      "   1 2 3 4 5 6 7 \n",
      " 1 2 3 4 5 6 7 8 9 \n"
     ]
    }
   ],
   "source": [
    "n=int(input('enter number of rows'))\n",
    "m=2*n-1\n",
    "for i in range(n):\n",
    "    num=1\n",
    "    for j in range(m):\n",
    "        print(end=' ')\n",
    "    m=m-2\n",
    "    for j in range(2*i-1):\n",
    "        print(num, end=' ')\n",
    "        num=num+1\n",
    "    print('\\r')"
   ]
  },
  {
   "cell_type": "markdown",
   "metadata": {},
   "source": [
    "### while patterns"
   ]
  },
  {
   "cell_type": "code",
   "execution_count": 27,
   "metadata": {},
   "outputs": [
    {
     "name": "stdout",
     "output_type": "stream",
     "text": [
      "enter number of rows = 5\n",
      "     \n",
      "    1\n",
      "   123\n",
      "  12345\n",
      " 1234567\n",
      "123456789\n"
     ]
    }
   ],
   "source": [
    "#do same as above using while loop\n",
    "#input from 1-5 for better results\n",
    "\n",
    "n=int(input('enter number of rows = '))\n",
    "m=n\n",
    "i=0\n",
    "while(i<=n):\n",
    "    num=1\n",
    "    j=0\n",
    "    while(j<m):\n",
    "        print(end=' ')\n",
    "        j+=1\n",
    "    m=m-1\n",
    "    j=0\n",
    "    while(j<2*i-1):\n",
    "        print(num, end='')\n",
    "        num=num+1\n",
    "        j+=1\n",
    "    print('\\r')\n",
    "    i+=1\n",
    "    "
   ]
  },
  {
   "cell_type": "markdown",
   "metadata": {},
   "source": [
    "**<<<<<<<<<<<<<<<<<<<<<<<<<<<<<<<<<<<<<<<<< END OF DOCUMENT >>>>>>>>>>>>>>>>>>>>>>>>>>>>>>>>>>>>>>>>>>>>>>>>>>>>>>**"
   ]
  }
 ],
 "metadata": {
  "kernelspec": {
   "display_name": "Python 3 (ipykernel)",
   "language": "python",
   "name": "python3"
  },
  "language_info": {
   "codemirror_mode": {
    "name": "ipython",
    "version": 3
   },
   "file_extension": ".py",
   "mimetype": "text/x-python",
   "name": "python",
   "nbconvert_exporter": "python",
   "pygments_lexer": "ipython3",
   "version": "3.9.13"
  }
 },
 "nbformat": 4,
 "nbformat_minor": 2
}
