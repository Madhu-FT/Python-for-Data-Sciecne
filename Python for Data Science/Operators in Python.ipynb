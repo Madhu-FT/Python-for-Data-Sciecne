{
 "cells": [
  {
   "cell_type": "markdown",
   "id": "3663bc66",
   "metadata": {},
   "source": [
    "\n",
    "\n",
    "___\n",
    "\n",
    "<a href='https://fingertips.co.in/'><img src='ft_logo_new.png'/></a>\n",
    "___\n",
    "<center><em>Content Copyright by Fingertips Data Intelligence Solutions</em></center>"
   ]
  },
  {
   "cell_type": "markdown",
   "id": "608f4a4c",
   "metadata": {},
   "source": [
    "# Operators in Python\n",
    "Operators are special symbols in Python which are used to perform operations on\n",
    "variables/values."
   ]
  },
  {
   "cell_type": "markdown",
   "id": "c78e3280",
   "metadata": {},
   "source": [
    "## Agenda!\n",
    "1. Arithmetic operators\n",
    "2. Comparison operators\n",
    "3. Logical operators\n",
    "4. Bitwise operators\n",
    "5. Assignment operators\n",
    "6. Identity operators"
   ]
  },
  {
   "cell_type": "markdown",
   "id": "51b585d0",
   "metadata": {},
   "source": [
    "### Arithmetic Operators\n",
    "The arithmetic operators perform addition, subtraction, multiplication, division, exponentiation, and modulus operations."
   ]
  },
  {
   "cell_type": "code",
   "execution_count": 194,
   "id": "5be5214a",
   "metadata": {},
   "outputs": [
    {
     "name": "stdout",
     "output_type": "stream",
     "text": [
      "Addition of 13 and 12 will give : 25\n",
      "\n",
      "Concatenate string 'x' and 'y' using '+' operaotr : Hello Coders!\n",
      "\n",
      "Subtracting 12 from 13 will give : 1\n",
      "\n",
      "Multiplying 13 and 12 will give : 156\n",
      "\n",
      "Dividing 13 by 12 will give : 1.0833333333333333\n",
      "\n",
      "Modulo of 13 , 12 will give : 1\n",
      "\n",
      "13 raised to the power 12 will give : 23298085122481\n",
      "\n",
      "Floor division of 13 by 12 will give : 1\n",
      "\n"
     ]
    }
   ],
   "source": [
    "a = 13\n",
    "b = 12\n",
    "x = 'Hello '\n",
    "y = 'Coders!'\n",
    "\n",
    "# Addition\n",
    "c = a + b\n",
    "print('Addition of {} and {} will give : {}\\n'.format(a,b,c))\n",
    "#Concatenate string using plus operator\n",
    "z = x+y\n",
    "print ('Concatenate string \\'x\\' and \\'y\\' using \\'+\\' operaotr : {}\\n'.format(z))\n",
    " \n",
    "# Subtraction\n",
    "c = a - b\n",
    "print('Subtracting {} from {} will give : {}\\n'.format(b,a,c))\n",
    " \n",
    "# Multiplication\n",
    "c = a * b \n",
    "print('Multiplying {} and {} will give : {}\\n'.format(a,b,c))\n",
    " \n",
    "# Division\n",
    "c = a / b\n",
    "print('Dividing {} by {} will give : {}\\n'.format(a,b,c))\n",
    " \n",
    "# Modulo of both number \n",
    "c = a % b\n",
    "print('Modulo of {} , {} will give : {}\\n'.format(a,b,c))\n",
    " \n",
    "# Power \n",
    "c = a ** b\n",
    "print('{} raised to the power {} will give : {}\\n'.format(a,b,c))\n",
    "# Division(floor)\n",
    "c = a // b\n",
    "print('Floor division of {} by {} will give : {}\\n'.format(a,b,c))\n"
   ]
  },
  {
   "cell_type": "markdown",
   "id": "7f2cc695",
   "metadata": {},
   "source": [
    "###  Comparison Operators\n",
    "Comparison operators are used to compare values."
   ]
  },
  {
   "cell_type": "code",
   "execution_count": 1,
   "id": "f43a7ccc",
   "metadata": {},
   "outputs": [
    {
     "name": "stdout",
     "output_type": "stream",
     "text": [
      "Is x greater than y :  False\n",
      "\n",
      "Is x less than y :  True\n",
      "\n",
      "Is x equal to y :  False\n",
      "\n",
      "Is x not equal to y :  True\n",
      "\n",
      "Is x greater than or equal to y :  False\n",
      "\n",
      "Is x less than or equal to y :  True\n"
     ]
    }
   ],
   "source": [
    "x = 45\n",
    "y = 98\n",
    "print('Is x greater than y : ',x>y)\n",
    "print('\\nIs x less than y : ',x<y)\n",
    "print('\\nIs x equal to y : ',x==y)\n",
    "print('\\nIs x not equal to y : ',x!=y)\n",
    "print('\\nIs x greater than or equal to y : ',x>=y)\n",
    "print('\\nIs x less than or equal to y : ',x<=y)"
   ]
  },
  {
   "cell_type": "markdown",
   "id": "3981a383",
   "metadata": {},
   "source": [
    "### Logical Operators \n",
    "Logical operators are generally used for combining two or more relational statements. They return Boolean values. "
   ]
  },
  {
   "cell_type": "code",
   "execution_count": 2,
   "id": "b4b46c0a",
   "metadata": {},
   "outputs": [
    {
     "name": "stdout",
     "output_type": "stream",
     "text": [
      "Logical AND operation :  False\n",
      "Logical OR operation :  True\n",
      "NOT operation :  False\n"
     ]
    }
   ],
   "source": [
    "x = True\n",
    "y = False\n",
    "print('Logical AND operation : ',x and y) # True if both values are true\n",
    "print('Logical OR operation : ',x or y) # True if either of the values is true\n",
    "print('NOT operation : ',not x ) # True if operand is false"
   ]
  },
  {
   "cell_type": "markdown",
   "id": "d2a18cb7",
   "metadata": {},
   "source": [
    "### Bitwise operators \n",
    "Bitwise operators act on bits and performs bit by bit operation."
   ]
  },
  {
   "cell_type": "code",
   "execution_count": 3,
   "id": "c17c4427",
   "metadata": {},
   "outputs": [
    {
     "name": "stdout",
     "output_type": "stream",
     "text": [
      "Bitwise AND operation - 0\n",
      "Bitwise OR operation - 99\n",
      "Bitwise XOR operation - 99\n",
      "Bitwise NOT operation - -66\n",
      "Bitwise right shift operation - 16\n",
      "Bitwise left shift operation - 260\n"
     ]
    }
   ],
   "source": [
    "x = 65 \n",
    "y = 34 \n",
    "print('Bitwise AND operation - {}'.format(x&y))\n",
    "print('Bitwise OR operation - {}'.format(x|y))\n",
    "print('Bitwise XOR operation - {}'.format(x^y))\n",
    "print('Bitwise NOT operation - {}'.format(~x))\n",
    "print('Bitwise right shift operation - {}'.format(x>>2))\n",
    "print('Bitwise left shift operation - {}'.format(x<<2))\n"
   ]
  },
  {
   "cell_type": "markdown",
   "id": "18f035df",
   "metadata": {},
   "source": [
    "### Assignment Operators \n",
    "Assignment operators are used to assigning value to a variable."
   ]
  },
  {
   "cell_type": "code",
   "execution_count": 4,
   "id": "a042fbab",
   "metadata": {},
   "outputs": [
    {
     "name": "stdout",
     "output_type": "stream",
     "text": [
      "Initialize x with value :  67\n"
     ]
    }
   ],
   "source": [
    "x = 67\n",
    "print('Initialize x with value : ',x)"
   ]
  },
  {
   "cell_type": "markdown",
   "id": "f3f4a97c",
   "metadata": {},
   "source": [
    "### Identity/Membership Operators \n",
    "Membership Operators are used to test whether a value / variable is present in a sequence."
   ]
  },
  {
   "cell_type": "code",
   "execution_count": 5,
   "id": "0b5c2c91",
   "metadata": {},
   "outputs": [
    {
     "data": {
      "text/plain": [
       "(True, False)"
      ]
     },
     "execution_count": 5,
     "metadata": {},
     "output_type": "execute_result"
    }
   ],
   "source": [
    "string = 'Hey all, python lovers!'\n",
    "'python' in string, 'all' not in string"
   ]
  },
  {
   "cell_type": "markdown",
   "id": "2ee0c819",
   "metadata": {},
   "source": [
    "**<<<<<<<<<<<<<<<<<<<<<<<<<<<<<<<< END OF DOCUMENT >>>>>>>>>>>>>>>>>>>>>>>>>>>>>>>>>>>>>**"
   ]
  }
 ],
 "metadata": {
  "kernelspec": {
   "display_name": "Python 3 (ipykernel)",
   "language": "python",
   "name": "python3"
  },
  "language_info": {
   "codemirror_mode": {
    "name": "ipython",
    "version": 3
   },
   "file_extension": ".py",
   "mimetype": "text/x-python",
   "name": "python",
   "nbconvert_exporter": "python",
   "pygments_lexer": "ipython3",
   "version": "3.9.13"
  }
 },
 "nbformat": 4,
 "nbformat_minor": 5
}
