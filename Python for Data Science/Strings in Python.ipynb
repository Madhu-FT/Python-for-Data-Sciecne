{
 "cells": [
  {
   "cell_type": "markdown",
   "id": "e3cb6f73",
   "metadata": {},
   "source": [
    "\n",
    "\n",
    "___\n",
    "\n",
    "<a href='https://fingertips.co.in/'><img src='ft_logo_new.png'/></a>\n",
    "___\n",
    "<center><em>Content Copyright by Fingertips Data Intelligence Solutions</em></center>"
   ]
  },
  {
   "cell_type": "code",
   "execution_count": 1,
   "id": "724602ba",
   "metadata": {},
   "outputs": [],
   "source": [
    "a='Programming'"
   ]
  },
  {
   "cell_type": "code",
   "execution_count": 2,
   "id": "073f3c0a",
   "metadata": {},
   "outputs": [
    {
     "data": {
      "text/plain": [
       "'Programming'"
      ]
     },
     "execution_count": 2,
     "metadata": {},
     "output_type": "execute_result"
    }
   ],
   "source": [
    "a"
   ]
  },
  {
   "cell_type": "code",
   "execution_count": 3,
   "id": "8c81fb07",
   "metadata": {},
   "outputs": [
    {
     "data": {
      "text/plain": [
       "str"
      ]
     },
     "execution_count": 3,
     "metadata": {},
     "output_type": "execute_result"
    }
   ],
   "source": [
    "type(a)"
   ]
  },
  {
   "cell_type": "markdown",
   "id": "2abb7872",
   "metadata": {},
   "source": [
    "### index\n",
    "0 1 2 3 4 5 ...\n",
    "\n",
    "-6 -5 -4 -3 -2 -1..."
   ]
  },
  {
   "cell_type": "code",
   "execution_count": 4,
   "id": "e652f772",
   "metadata": {},
   "outputs": [
    {
     "data": {
      "text/plain": [
       "'r'"
      ]
     },
     "execution_count": 4,
     "metadata": {},
     "output_type": "execute_result"
    }
   ],
   "source": [
    "#extract 'r'\n",
    "a[4]"
   ]
  },
  {
   "cell_type": "code",
   "execution_count": 5,
   "id": "f8efdf1f",
   "metadata": {},
   "outputs": [],
   "source": [
    "b='Welcome Coders!'"
   ]
  },
  {
   "cell_type": "code",
   "execution_count": 6,
   "id": "b65b8e30",
   "metadata": {},
   "outputs": [
    {
     "data": {
      "text/plain": [
       "15"
      ]
     },
     "execution_count": 6,
     "metadata": {},
     "output_type": "execute_result"
    }
   ],
   "source": [
    "#len() function gives length of any string\n",
    "len(b)"
   ]
  },
  {
   "cell_type": "code",
   "execution_count": 7,
   "id": "99062b02",
   "metadata": {},
   "outputs": [
    {
     "data": {
      "text/plain": [
       "'o'"
      ]
     },
     "execution_count": 7,
     "metadata": {},
     "output_type": "execute_result"
    }
   ],
   "source": [
    "b[4]"
   ]
  },
  {
   "cell_type": "markdown",
   "id": "cb3007eb",
   "metadata": {},
   "source": [
    "### range of data\n",
    "**Note:** []: upper bound is excluded"
   ]
  },
  {
   "cell_type": "markdown",
   "id": "6b564ad8",
   "metadata": {},
   "source": [
    "### forward string"
   ]
  },
  {
   "cell_type": "code",
   "execution_count": 8,
   "id": "e2061e36",
   "metadata": {},
   "outputs": [
    {
     "data": {
      "text/plain": [
       "'lcome Co'"
      ]
     },
     "execution_count": 8,
     "metadata": {},
     "output_type": "execute_result"
    }
   ],
   "source": [
    "#a[start point, end point(excluded)]\n",
    "b[2:10]"
   ]
  },
  {
   "cell_type": "code",
   "execution_count": 9,
   "id": "9bb1f45e",
   "metadata": {},
   "outputs": [
    {
     "data": {
      "text/plain": [
       "'cm oes'"
      ]
     },
     "execution_count": 9,
     "metadata": {},
     "output_type": "execute_result"
    }
   ],
   "source": [
    "#a[start point, end point(excluded), step size]\n",
    "b[3:15:2]"
   ]
  },
  {
   "cell_type": "code",
   "execution_count": 10,
   "id": "460b8651",
   "metadata": {},
   "outputs": [
    {
     "data": {
      "text/plain": [
       "'Welcome Coders!'"
      ]
     },
     "execution_count": 10,
     "metadata": {},
     "output_type": "execute_result"
    }
   ],
   "source": [
    "#by default [0:len(b):1]\n",
    "b[::]"
   ]
  },
  {
   "cell_type": "code",
   "execution_count": 11,
   "id": "2ae521fa",
   "metadata": {},
   "outputs": [
    {
     "data": {
      "text/plain": [
       "'Welcome Coders!'"
      ]
     },
     "execution_count": 11,
     "metadata": {},
     "output_type": "execute_result"
    }
   ],
   "source": [
    "b[0:len(b):1]"
   ]
  },
  {
   "cell_type": "code",
   "execution_count": 12,
   "id": "c8085a4c",
   "metadata": {},
   "outputs": [
    {
     "data": {
      "text/plain": [
       "'lcome Coders!'"
      ]
     },
     "execution_count": 12,
     "metadata": {},
     "output_type": "execute_result"
    }
   ],
   "source": [
    "b[2::]"
   ]
  },
  {
   "cell_type": "markdown",
   "id": "601fa835",
   "metadata": {},
   "source": [
    "### reverse string"
   ]
  },
  {
   "cell_type": "code",
   "execution_count": 13,
   "id": "3e364f12",
   "metadata": {},
   "outputs": [
    {
     "data": {
      "text/plain": [
       "''"
      ]
     },
     "execution_count": 13,
     "metadata": {},
     "output_type": "execute_result"
    }
   ],
   "source": [
    "#a[start point, end point(excluded), step size(-1)]\n",
    "b[15:3]"
   ]
  },
  {
   "cell_type": "code",
   "execution_count": 14,
   "id": "06eb54f1",
   "metadata": {},
   "outputs": [
    {
     "data": {
      "text/plain": [
       "'!sredoC emo'"
      ]
     },
     "execution_count": 14,
     "metadata": {},
     "output_type": "execute_result"
    }
   ],
   "source": [
    "b[15:3:-1]"
   ]
  },
  {
   "cell_type": "code",
   "execution_count": 15,
   "id": "f7480b08",
   "metadata": {},
   "outputs": [
    {
     "data": {
      "text/plain": [
       "'!rdCe'"
      ]
     },
     "execution_count": 15,
     "metadata": {},
     "output_type": "execute_result"
    }
   ],
   "source": [
    "b[20:4:-2]"
   ]
  },
  {
   "cell_type": "code",
   "execution_count": 16,
   "id": "49b41947",
   "metadata": {},
   "outputs": [
    {
     "data": {
      "text/plain": [
       "'!sredoC emocleW'"
      ]
     },
     "execution_count": 16,
     "metadata": {},
     "output_type": "execute_result"
    }
   ],
   "source": [
    "#by default [len(b):0:-1]\n",
    "#reverse of complete string\n",
    "b[::-1]"
   ]
  },
  {
   "cell_type": "code",
   "execution_count": 19,
   "id": "2c075be8",
   "metadata": {},
   "outputs": [],
   "source": [
    "s='Coders!'"
   ]
  },
  {
   "cell_type": "code",
   "execution_count": 20,
   "id": "5b2d2d34",
   "metadata": {},
   "outputs": [
    {
     "data": {
      "text/plain": [
       "'Coders!'"
      ]
     },
     "execution_count": 20,
     "metadata": {},
     "output_type": "execute_result"
    }
   ],
   "source": [
    "s"
   ]
  },
  {
   "cell_type": "markdown",
   "id": "2ac2fa3e",
   "metadata": {},
   "source": [
    "**Note: if you are using single quotes then enclose string in double quotes, and vice-versa**"
   ]
  },
  {
   "cell_type": "code",
   "execution_count": 21,
   "id": "ae49f87c",
   "metadata": {},
   "outputs": [],
   "source": [
    "#s1='Coder's'\n",
    "#s=\"Coder\"s\""
   ]
  },
  {
   "cell_type": "code",
   "execution_count": 22,
   "id": "9c3961e1",
   "metadata": {},
   "outputs": [],
   "source": [
    "s1=\"Student's\""
   ]
  },
  {
   "cell_type": "code",
   "execution_count": 23,
   "id": "49476b3f",
   "metadata": {},
   "outputs": [
    {
     "data": {
      "text/plain": [
       "\"Student's\""
      ]
     },
     "execution_count": 23,
     "metadata": {},
     "output_type": "execute_result"
    }
   ],
   "source": [
    "s1"
   ]
  },
  {
   "cell_type": "code",
   "execution_count": 24,
   "id": "71deb02f",
   "metadata": {},
   "outputs": [],
   "source": [
    "s2='Student\"s'"
   ]
  },
  {
   "cell_type": "code",
   "execution_count": 25,
   "id": "d1688b59",
   "metadata": {},
   "outputs": [
    {
     "data": {
      "text/plain": [
       "'Student\"s'"
      ]
     },
     "execution_count": 25,
     "metadata": {},
     "output_type": "execute_result"
    }
   ],
   "source": [
    "s2"
   ]
  },
  {
   "cell_type": "code",
   "execution_count": 26,
   "id": "33f6293e",
   "metadata": {},
   "outputs": [
    {
     "data": {
      "text/plain": [
       "'r'"
      ]
     },
     "execution_count": 26,
     "metadata": {},
     "output_type": "execute_result"
    }
   ],
   "source": [
    "s='Coder'\n",
    "s[-1]"
   ]
  },
  {
   "cell_type": "code",
   "execution_count": 27,
   "id": "a2ed668a",
   "metadata": {},
   "outputs": [
    {
     "data": {
      "text/plain": [
       "'Coder'"
      ]
     },
     "execution_count": 27,
     "metadata": {},
     "output_type": "execute_result"
    }
   ],
   "source": [
    "s[::]"
   ]
  },
  {
   "cell_type": "code",
   "execution_count": 28,
   "id": "b2f45c30",
   "metadata": {},
   "outputs": [
    {
     "data": {
      "text/plain": [
       "'redoC'"
      ]
     },
     "execution_count": 28,
     "metadata": {},
     "output_type": "execute_result"
    }
   ],
   "source": [
    "s[::-1]"
   ]
  },
  {
   "cell_type": "code",
   "execution_count": 29,
   "id": "7dc8bb28",
   "metadata": {},
   "outputs": [
    {
     "data": {
      "text/plain": [
       "''"
      ]
     },
     "execution_count": 29,
     "metadata": {},
     "output_type": "execute_result"
    }
   ],
   "source": [
    "s[-1:-10:1]"
   ]
  },
  {
   "cell_type": "code",
   "execution_count": 30,
   "id": "20d94f95",
   "metadata": {},
   "outputs": [
    {
     "name": "stdout",
     "output_type": "stream",
     "text": [
      "Coder"
     ]
    }
   ],
   "source": [
    "#iterate string not throght index \n",
    "for i in s:\n",
    "    print(i, end='')"
   ]
  },
  {
   "cell_type": "code",
   "execution_count": 31,
   "id": "26b0d13b",
   "metadata": {},
   "outputs": [
    {
     "name": "stdout",
     "output_type": "stream",
     "text": [
      "C o d e r "
     ]
    }
   ],
   "source": [
    "for i in range(len(s)):\n",
    "    print(s[i], end=' ')"
   ]
  },
  {
   "cell_type": "markdown",
   "id": "0e139608",
   "metadata": {},
   "source": [
    "**Immutability: Strings are immutable**"
   ]
  },
  {
   "cell_type": "code",
   "execution_count": 32,
   "id": "18a11a86",
   "metadata": {},
   "outputs": [
    {
     "data": {
      "text/plain": [
       "'o'"
      ]
     },
     "execution_count": 32,
     "metadata": {},
     "output_type": "execute_result"
    }
   ],
   "source": [
    "#if we want to change and part of string we have to do assignment, because replacement can't be done in strings as they are immutable\n",
    "s[1]"
   ]
  },
  {
   "cell_type": "code",
   "execution_count": 33,
   "id": "63151e6f",
   "metadata": {},
   "outputs": [],
   "source": [
    "#TypeError: 'str' object does not support item assignment\n",
    "#s[1]='b'"
   ]
  },
  {
   "cell_type": "markdown",
   "id": "ef24269f",
   "metadata": {},
   "source": [
    "**Both strings are lists are iterable, but strings are immutable while lists are mutable.**"
   ]
  },
  {
   "cell_type": "code",
   "execution_count": 35,
   "id": "636235d2",
   "metadata": {},
   "outputs": [],
   "source": [
    "#assignment\n",
    "s='Hello all'"
   ]
  },
  {
   "cell_type": "code",
   "execution_count": 36,
   "id": "5de10f86",
   "metadata": {},
   "outputs": [
    {
     "data": {
      "text/plain": [
       "'Hello all'"
      ]
     },
     "execution_count": 36,
     "metadata": {},
     "output_type": "execute_result"
    }
   ],
   "source": [
    "s"
   ]
  },
  {
   "cell_type": "markdown",
   "id": "b461a413",
   "metadata": {},
   "source": [
    "### Concatenation"
   ]
  },
  {
   "cell_type": "code",
   "execution_count": 37,
   "id": "a107e538",
   "metadata": {},
   "outputs": [
    {
     "data": {
      "text/plain": [
       "'Hello all'"
      ]
     },
     "execution_count": 37,
     "metadata": {},
     "output_type": "execute_result"
    }
   ],
   "source": [
    "'Hello '+'all'"
   ]
  },
  {
   "cell_type": "markdown",
   "id": "6c6f659f",
   "metadata": {},
   "source": [
    "### Operations"
   ]
  },
  {
   "cell_type": "code",
   "execution_count": 38,
   "id": "7d98f120",
   "metadata": {},
   "outputs": [],
   "source": [
    "#'python'+4"
   ]
  },
  {
   "cell_type": "code",
   "execution_count": 39,
   "id": "7ce87939",
   "metadata": {},
   "outputs": [
    {
     "data": {
      "text/plain": [
       "'python4'"
      ]
     },
     "execution_count": 39,
     "metadata": {},
     "output_type": "execute_result"
    }
   ],
   "source": [
    "#typecasting\n",
    "'python'+str(4)"
   ]
  },
  {
   "cell_type": "code",
   "execution_count": 40,
   "id": "e3cd3b96",
   "metadata": {},
   "outputs": [
    {
     "data": {
      "text/plain": [
       "'pythonpythonpythonpython'"
      ]
     },
     "execution_count": 40,
     "metadata": {},
     "output_type": "execute_result"
    }
   ],
   "source": [
    "s='python'\n",
    "s*4"
   ]
  },
  {
   "cell_type": "markdown",
   "id": "3c39413a",
   "metadata": {},
   "source": [
    "## Inbuit functions\n",
    "press tab after . , will give a list of inbuilt functions present"
   ]
  },
  {
   "cell_type": "code",
   "execution_count": 41,
   "id": "18d3d60b",
   "metadata": {},
   "outputs": [],
   "source": [
    "s='Welcome! We are going to learn all about strings in this session.'"
   ]
  },
  {
   "cell_type": "code",
   "execution_count": 42,
   "id": "a67f558a",
   "metadata": {},
   "outputs": [
    {
     "data": {
      "text/plain": [
       "'Welcome! We are going to learn all about strings in this session.'"
      ]
     },
     "execution_count": 42,
     "metadata": {},
     "output_type": "execute_result"
    }
   ],
   "source": [
    "s"
   ]
  },
  {
   "cell_type": "code",
   "execution_count": 43,
   "id": "f01c4157",
   "metadata": {},
   "outputs": [
    {
     "data": {
      "text/plain": [
       "'welcome! we are going to learn all about strings in this session.'"
      ]
     },
     "execution_count": 43,
     "metadata": {},
     "output_type": "execute_result"
    }
   ],
   "source": [
    "#lower()\n",
    "s.lower()"
   ]
  },
  {
   "cell_type": "code",
   "execution_count": 44,
   "id": "1f045673",
   "metadata": {},
   "outputs": [
    {
     "data": {
      "text/plain": [
       "'Welcome! We are going to learn all about strings in this session.'"
      ]
     },
     "execution_count": 44,
     "metadata": {},
     "output_type": "execute_result"
    }
   ],
   "source": [
    "#we haven't saved it\n",
    "s"
   ]
  },
  {
   "cell_type": "code",
   "execution_count": 45,
   "id": "a7219b22",
   "metadata": {},
   "outputs": [],
   "source": [
    "s=s.lower()"
   ]
  },
  {
   "cell_type": "code",
   "execution_count": 46,
   "id": "d480eb0d",
   "metadata": {},
   "outputs": [
    {
     "data": {
      "text/plain": [
       "'welcome! we are going to learn all about strings in this session.'"
      ]
     },
     "execution_count": 46,
     "metadata": {},
     "output_type": "execute_result"
    }
   ],
   "source": [
    "s"
   ]
  },
  {
   "cell_type": "code",
   "execution_count": 47,
   "id": "a3021fb9",
   "metadata": {},
   "outputs": [
    {
     "data": {
      "text/plain": [
       "'WELCOME! WE ARE GOING TO LEARN ALL ABOUT STRINGS IN THIS SESSION.'"
      ]
     },
     "execution_count": 47,
     "metadata": {},
     "output_type": "execute_result"
    }
   ],
   "source": [
    "#upper()\n",
    "s.upper()"
   ]
  },
  {
   "cell_type": "code",
   "execution_count": 48,
   "id": "eba54251",
   "metadata": {},
   "outputs": [
    {
     "data": {
      "text/plain": [
       "'Welcome! We Are Going To Learn All About Strings In This Session.'"
      ]
     },
     "execution_count": 48,
     "metadata": {},
     "output_type": "execute_result"
    }
   ],
   "source": [
    "#title()\n",
    "s.title()"
   ]
  },
  {
   "cell_type": "code",
   "execution_count": 49,
   "id": "466b287e",
   "metadata": {},
   "outputs": [
    {
     "data": {
      "text/plain": [
       "'Welcome! we are going to learn all about strings in this session.'"
      ]
     },
     "execution_count": 49,
     "metadata": {},
     "output_type": "execute_result"
    }
   ],
   "source": [
    "#capitalize()\n",
    "s.capitalize()"
   ]
  },
  {
   "cell_type": "code",
   "execution_count": 50,
   "id": "cd6fbfcb",
   "metadata": {},
   "outputs": [
    {
     "data": {
      "text/plain": [
       "'welcome! we are going to learn all about strings in this session.'"
      ]
     },
     "execution_count": 50,
     "metadata": {},
     "output_type": "execute_result"
    }
   ],
   "source": [
    "s"
   ]
  },
  {
   "cell_type": "code",
   "execution_count": 51,
   "id": "c0e7cbd0",
   "metadata": {},
   "outputs": [
    {
     "data": {
      "text/plain": [
       "5"
      ]
     },
     "execution_count": 51,
     "metadata": {},
     "output_type": "execute_result"
    }
   ],
   "source": [
    "#find()--> just first 'm' in the given string\n",
    "s.find('m')"
   ]
  },
  {
   "cell_type": "code",
   "execution_count": 52,
   "id": "8fac53a3",
   "metadata": {},
   "outputs": [],
   "source": [
    "#shift+tab--> any function details"
   ]
  },
  {
   "cell_type": "code",
   "execution_count": 53,
   "id": "ecb1454a",
   "metadata": {},
   "outputs": [
    {
     "data": {
      "text/plain": [
       "-1"
      ]
     },
     "execution_count": 53,
     "metadata": {},
     "output_type": "execute_result"
    }
   ],
   "source": [
    "#if a substring is not present inside any string then it will return '-1'\n",
    "s.find('z')"
   ]
  },
  {
   "cell_type": "code",
   "execution_count": 55,
   "id": "7e5abda5",
   "metadata": {},
   "outputs": [
    {
     "data": {
      "text/plain": [
       "41"
      ]
     },
     "execution_count": 55,
     "metadata": {},
     "output_type": "execute_result"
    }
   ],
   "source": [
    "s.find('string')"
   ]
  },
  {
   "cell_type": "code",
   "execution_count": 56,
   "id": "ef2af770",
   "metadata": {},
   "outputs": [
    {
     "data": {
      "text/plain": [
       "'welcome! we are going to learn all about strings in this session.'"
      ]
     },
     "execution_count": 56,
     "metadata": {},
     "output_type": "execute_result"
    }
   ],
   "source": [
    "s"
   ]
  },
  {
   "cell_type": "code",
   "execution_count": 138,
   "id": "ebaef241",
   "metadata": {},
   "outputs": [
    {
     "data": {
      "text/plain": [
       "1"
      ]
     },
     "execution_count": 138,
     "metadata": {},
     "output_type": "execute_result"
    }
   ],
   "source": [
    "#count-->counts number of substring occures in string\n",
    "s.count('r')"
   ]
  },
  {
   "cell_type": "code",
   "execution_count": 61,
   "id": "27d539fb",
   "metadata": {},
   "outputs": [
    {
     "data": {
      "text/plain": [
       "0"
      ]
     },
     "execution_count": 61,
     "metadata": {},
     "output_type": "execute_result"
    }
   ],
   "source": [
    "s.count('my')"
   ]
  },
  {
   "cell_type": "code",
   "execution_count": 62,
   "id": "ef80ec5c",
   "metadata": {},
   "outputs": [
    {
     "data": {
      "text/plain": [
       "['welcome!',\n",
       " 'we',\n",
       " 'are',\n",
       " 'going',\n",
       " 'to',\n",
       " 'learn',\n",
       " 'all',\n",
       " 'about',\n",
       " 'strings',\n",
       " 'in',\n",
       " 'this',\n",
       " 'session.']"
      ]
     },
     "execution_count": 62,
     "metadata": {},
     "output_type": "execute_result"
    }
   ],
   "source": [
    "#split-->Return a list of the words in the string, using sep as the delimiter string.\n",
    "#s.split(sep=None, maxsplit=-1)-->by-default, sep=white-sapce\n",
    "s.split()"
   ]
  },
  {
   "cell_type": "code",
   "execution_count": 63,
   "id": "aa82223e",
   "metadata": {},
   "outputs": [
    {
     "data": {
      "text/plain": [
       "['welcome! we are go',\n",
       " 'ng to learn all about str',\n",
       " 'ngs ',\n",
       " 'n th',\n",
       " 's sess',\n",
       " 'on.']"
      ]
     },
     "execution_count": 63,
     "metadata": {},
     "output_type": "execute_result"
    }
   ],
   "source": [
    "s.split('i')"
   ]
  },
  {
   "cell_type": "code",
   "execution_count": 64,
   "id": "0d02c689",
   "metadata": {},
   "outputs": [
    {
     "data": {
      "text/plain": [
       "['welco', 'e! we are going to learn all about strings in this session.']"
      ]
     },
     "execution_count": 64,
     "metadata": {},
     "output_type": "execute_result"
    }
   ],
   "source": [
    "s.split('m')"
   ]
  },
  {
   "cell_type": "code",
   "execution_count": 65,
   "id": "618f6684",
   "metadata": {},
   "outputs": [
    {
     "data": {
      "text/plain": [
       "list"
      ]
     },
     "execution_count": 65,
     "metadata": {},
     "output_type": "execute_result"
    }
   ],
   "source": [
    "#split returns a list\n",
    "type(s.split())"
   ]
  },
  {
   "cell_type": "code",
   "execution_count": 66,
   "id": "fbbf67cf",
   "metadata": {},
   "outputs": [
    {
     "data": {
      "text/plain": [
       "'Welcome! We Are Going To Learn All About Strings In This Session.'"
      ]
     },
     "execution_count": 66,
     "metadata": {},
     "output_type": "execute_result"
    }
   ],
   "source": [
    "s=s.title()\n",
    "s"
   ]
  },
  {
   "cell_type": "code",
   "execution_count": 67,
   "id": "2c5f7be5",
   "metadata": {},
   "outputs": [
    {
     "data": {
      "text/plain": [
       "'wELCOME! wE aRE gOING tO lEARN aLL aBOUT sTRINGS iN tHIS sESSION.'"
      ]
     },
     "execution_count": 67,
     "metadata": {},
     "output_type": "execute_result"
    }
   ],
   "source": [
    "#swapcase\n",
    "s.swapcase()"
   ]
  },
  {
   "cell_type": "code",
   "execution_count": 68,
   "id": "fb341270",
   "metadata": {},
   "outputs": [
    {
     "data": {
      "text/plain": [
       "'W@ e@ l@ c@ o@ m@ e@ !@  @ W@ e@  @ A@ r@ e@  @ G@ o@ i@ n@ g@  @ T@ o@  @ L@ e@ a@ r@ n@  @ A@ l@ l@  @ A@ b@ o@ u@ t@  @ S@ t@ r@ i@ n@ g@ s@  @ I@ n@  @ T@ h@ i@ s@  @ S@ e@ s@ s@ i@ o@ n@ .'"
      ]
     },
     "execution_count": 68,
     "metadata": {},
     "output_type": "execute_result"
    }
   ],
   "source": [
    "#join\n",
    "\"@ \".join(s)"
   ]
  },
  {
   "cell_type": "code",
   "execution_count": 69,
   "id": "8d0b4b47",
   "metadata": {},
   "outputs": [
    {
     "data": {
      "text/plain": [
       "'W e l c o m e !   W e   A r e   G o i n g   T o   L e a r n   A l l   A b o u t   S t r i n g s   I n   T h i s   S e s s i o n .'"
      ]
     },
     "execution_count": 69,
     "metadata": {},
     "output_type": "execute_result"
    }
   ],
   "source": [
    "\" \".join(s)"
   ]
  },
  {
   "cell_type": "code",
   "execution_count": 70,
   "id": "cc5f5c45",
   "metadata": {},
   "outputs": [
    {
     "data": {
      "text/plain": [
       "['.',\n",
       " 'n',\n",
       " 'o',\n",
       " 'i',\n",
       " 's',\n",
       " 's',\n",
       " 'e',\n",
       " 'S',\n",
       " ' ',\n",
       " 's',\n",
       " 'i',\n",
       " 'h',\n",
       " 'T',\n",
       " ' ',\n",
       " 'n',\n",
       " 'I',\n",
       " ' ',\n",
       " 's',\n",
       " 'g',\n",
       " 'n',\n",
       " 'i',\n",
       " 'r',\n",
       " 't',\n",
       " 'S',\n",
       " ' ',\n",
       " 't',\n",
       " 'u',\n",
       " 'o',\n",
       " 'b',\n",
       " 'A',\n",
       " ' ',\n",
       " 'l',\n",
       " 'l',\n",
       " 'A',\n",
       " ' ',\n",
       " 'n',\n",
       " 'r',\n",
       " 'a',\n",
       " 'e',\n",
       " 'L',\n",
       " ' ',\n",
       " 'o',\n",
       " 'T',\n",
       " ' ',\n",
       " 'g',\n",
       " 'n',\n",
       " 'i',\n",
       " 'o',\n",
       " 'G',\n",
       " ' ',\n",
       " 'e',\n",
       " 'r',\n",
       " 'A',\n",
       " ' ',\n",
       " 'e',\n",
       " 'W',\n",
       " ' ',\n",
       " '!',\n",
       " 'e',\n",
       " 'm',\n",
       " 'o',\n",
       " 'c',\n",
       " 'l',\n",
       " 'e',\n",
       " 'W']"
      ]
     },
     "execution_count": 70,
     "metadata": {},
     "output_type": "execute_result"
    }
   ],
   "source": [
    "#reverse\n",
    "list(reversed(s))"
   ]
  },
  {
   "cell_type": "code",
   "execution_count": 72,
   "id": "1c288890",
   "metadata": {},
   "outputs": [
    {
     "data": {
      "text/plain": [
       "'hey, Welcome all!'"
      ]
     },
     "execution_count": 72,
     "metadata": {},
     "output_type": "execute_result"
    }
   ],
   "source": [
    "#strip-->end spaces remove\n",
    "s='   hey, Welcome all!    '\n",
    "s.strip()"
   ]
  },
  {
   "cell_type": "code",
   "execution_count": 73,
   "id": "1dd5b6f8",
   "metadata": {},
   "outputs": [
    {
     "data": {
      "text/plain": [
       "'hey, Welcome all!    '"
      ]
     },
     "execution_count": 73,
     "metadata": {},
     "output_type": "execute_result"
    }
   ],
   "source": [
    "#lstrip-->removes left strip\n",
    "s.lstrip()"
   ]
  },
  {
   "cell_type": "code",
   "execution_count": 74,
   "id": "fd8c5e23",
   "metadata": {},
   "outputs": [
    {
     "data": {
      "text/plain": [
       "'   hey, Welcome all!'"
      ]
     },
     "execution_count": 74,
     "metadata": {},
     "output_type": "execute_result"
    }
   ],
   "source": [
    "#rstrip-->removes right strip\n",
    "s.rstrip()"
   ]
  },
  {
   "cell_type": "code",
   "execution_count": 75,
   "id": "c22a2ccb",
   "metadata": {},
   "outputs": [
    {
     "data": {
      "text/plain": [
       "'   hzy, Wzlcomz all!    '"
      ]
     },
     "execution_count": 75,
     "metadata": {},
     "output_type": "execute_result"
    }
   ],
   "source": [
    "#replace-->takes two parameters\n",
    "s.replace('e', 'z')"
   ]
  },
  {
   "cell_type": "code",
   "execution_count": 76,
   "id": "b8266feb",
   "metadata": {},
   "outputs": [
    {
     "data": {
      "text/plain": [
       "'   hey, Welcome all!    '"
      ]
     },
     "execution_count": 76,
     "metadata": {},
     "output_type": "execute_result"
    }
   ],
   "source": [
    "#strings are immutable so changes are made at new location\n",
    "s"
   ]
  },
  {
   "cell_type": "code",
   "execution_count": 77,
   "id": "daa1160a",
   "metadata": {},
   "outputs": [
    {
     "data": {
      "text/plain": [
       "'   hzy, Wzlcomz all!    '"
      ]
     },
     "execution_count": 77,
     "metadata": {},
     "output_type": "execute_result"
    }
   ],
   "source": [
    "#if you want to save these changes you will have to do assignment operation, and it will be done at new location\n",
    "s=s.replace('e', 'z')\n",
    "s"
   ]
  },
  {
   "cell_type": "code",
   "execution_count": 78,
   "id": "2725807f",
   "metadata": {},
   "outputs": [
    {
     "data": {
      "text/plain": [
       "'hzy,Wzlcomzall!'"
      ]
     },
     "execution_count": 78,
     "metadata": {},
     "output_type": "execute_result"
    }
   ],
   "source": [
    "#remove spaces\n",
    "s.replace(' ', '')"
   ]
  },
  {
   "cell_type": "code",
   "execution_count": 81,
   "id": "85700704",
   "metadata": {},
   "outputs": [
    {
     "data": {
      "text/plain": [
       "'@@@@@@@@   hzy, Wzlcomz all!    @@@@@@@@'"
      ]
     },
     "execution_count": 81,
     "metadata": {},
     "output_type": "execute_result"
    }
   ],
   "source": [
    "#center--> takes two arguments, reverse space=first argumnet, fits string in center and fills rest of spaces with second argument\n",
    "s.center(40,'@')"
   ]
  },
  {
   "cell_type": "code",
   "execution_count": 92,
   "id": "4a3f6f4b",
   "metadata": {},
   "outputs": [],
   "source": [
    "#only one character allowed-->The fill character must be exactly one character long\n",
    "#s.center(30,'@q')"
   ]
  },
  {
   "cell_type": "code",
   "execution_count": 93,
   "id": "8b827b2f",
   "metadata": {},
   "outputs": [],
   "source": [
    "#expandtabs\n",
    "s='welcome\\tall\\tcoders\\t!'"
   ]
  },
  {
   "cell_type": "code",
   "execution_count": 96,
   "id": "437ddc17",
   "metadata": {},
   "outputs": [
    {
     "data": {
      "text/plain": [
       "'welcome\\tall\\tcoders\\t!'"
      ]
     },
     "execution_count": 96,
     "metadata": {},
     "output_type": "execute_result"
    }
   ],
   "source": [
    "s"
   ]
  },
  {
   "cell_type": "code",
   "execution_count": 97,
   "id": "8f0b10eb",
   "metadata": {},
   "outputs": [
    {
     "data": {
      "text/plain": [
       "'welcome all     coders  !'"
      ]
     },
     "execution_count": 97,
     "metadata": {},
     "output_type": "execute_result"
    }
   ],
   "source": [
    "s.expandtabs()"
   ]
  },
  {
   "cell_type": "markdown",
   "id": "bc74f9bb",
   "metadata": {},
   "source": [
    "**TASK**"
   ]
  },
  {
   "cell_type": "code",
   "execution_count": 98,
   "id": "1c87f7f6",
   "metadata": {},
   "outputs": [],
   "source": [
    "a='we all are part of this session!'"
   ]
  },
  {
   "cell_type": "code",
   "execution_count": 99,
   "id": "a323dec6",
   "metadata": {},
   "outputs": [
    {
     "data": {
      "text/plain": [
       "'we all are part of this session!'"
      ]
     },
     "execution_count": 99,
     "metadata": {},
     "output_type": "execute_result"
    }
   ],
   "source": [
    "a.lower()"
   ]
  },
  {
   "cell_type": "code",
   "execution_count": 100,
   "id": "2419548f",
   "metadata": {},
   "outputs": [
    {
     "data": {
      "text/plain": [
       "3"
      ]
     },
     "execution_count": 100,
     "metadata": {},
     "output_type": "execute_result"
    }
   ],
   "source": [
    "a.count('a')"
   ]
  },
  {
   "cell_type": "code",
   "execution_count": 101,
   "id": "6424a981",
   "metadata": {},
   "outputs": [
    {
     "name": "stdout",
     "output_type": "stream",
     "text": [
      "3\n",
      "7\n",
      "12\n"
     ]
    }
   ],
   "source": [
    "#iterate string through index\n",
    "for i in range(len(a)):\n",
    "    if a[i]=='a':\n",
    "        print(i)"
   ]
  },
  {
   "cell_type": "code",
   "execution_count": 137,
   "id": "f1f18629",
   "metadata": {},
   "outputs": [
    {
     "data": {
      "text/plain": [
       "'we all are part  coders f this sessi coders n!'"
      ]
     },
     "execution_count": 137,
     "metadata": {},
     "output_type": "execute_result"
    }
   ],
   "source": [
    "a.replace('o', ' coders ')"
   ]
  },
  {
   "cell_type": "code",
   "execution_count": 106,
   "id": "ccecfa87",
   "metadata": {},
   "outputs": [
    {
     "data": {
      "text/plain": [
       "['we', 'all', 'are', 'part', 'of', 'this', 'session!']"
      ]
     },
     "execution_count": 106,
     "metadata": {},
     "output_type": "execute_result"
    }
   ],
   "source": [
    "a.split()"
   ]
  },
  {
   "cell_type": "markdown",
   "id": "b7a29dbb",
   "metadata": {},
   "source": [
    "### check inbuilt methods-->returns True/False"
   ]
  },
  {
   "cell_type": "code",
   "execution_count": 136,
   "id": "f1002219",
   "metadata": {},
   "outputs": [],
   "source": [
    "m='WelcomeAll'"
   ]
  },
  {
   "cell_type": "code",
   "execution_count": 108,
   "id": "414bd4cb",
   "metadata": {},
   "outputs": [
    {
     "data": {
      "text/plain": [
       "False"
      ]
     },
     "execution_count": 108,
     "metadata": {},
     "output_type": "execute_result"
    }
   ],
   "source": [
    "m.isupper()"
   ]
  },
  {
   "cell_type": "code",
   "execution_count": 109,
   "id": "aa31af94",
   "metadata": {},
   "outputs": [
    {
     "data": {
      "text/plain": [
       "False"
      ]
     },
     "execution_count": 109,
     "metadata": {},
     "output_type": "execute_result"
    }
   ],
   "source": [
    "m.islower()"
   ]
  },
  {
   "cell_type": "code",
   "execution_count": 110,
   "id": "9ecb2608",
   "metadata": {},
   "outputs": [
    {
     "data": {
      "text/plain": [
       "True"
      ]
     },
     "execution_count": 110,
     "metadata": {},
     "output_type": "execute_result"
    }
   ],
   "source": [
    "#alphabet or numeric\n",
    "m.isalnum()"
   ]
  },
  {
   "cell_type": "code",
   "execution_count": 111,
   "id": "9c05bc8f",
   "metadata": {},
   "outputs": [
    {
     "data": {
      "text/plain": [
       "True"
      ]
     },
     "execution_count": 111,
     "metadata": {},
     "output_type": "execute_result"
    }
   ],
   "source": [
    "m.isalpha()"
   ]
  },
  {
   "cell_type": "code",
   "execution_count": 112,
   "id": "c65fbbfd",
   "metadata": {},
   "outputs": [],
   "source": [
    "m='234jjk'"
   ]
  },
  {
   "cell_type": "code",
   "execution_count": 113,
   "id": "59e192ae",
   "metadata": {},
   "outputs": [
    {
     "data": {
      "text/plain": [
       "False"
      ]
     },
     "execution_count": 113,
     "metadata": {},
     "output_type": "execute_result"
    }
   ],
   "source": [
    "m.isnumeric()"
   ]
  },
  {
   "cell_type": "code",
   "execution_count": 114,
   "id": "6439ba95",
   "metadata": {},
   "outputs": [
    {
     "data": {
      "text/plain": [
       "True"
      ]
     },
     "execution_count": 114,
     "metadata": {},
     "output_type": "execute_result"
    }
   ],
   "source": [
    "m.isalnum()"
   ]
  },
  {
   "cell_type": "code",
   "execution_count": 115,
   "id": "a5084ecd",
   "metadata": {},
   "outputs": [],
   "source": [
    "m='   code'"
   ]
  },
  {
   "cell_type": "code",
   "execution_count": 116,
   "id": "8090e4e1",
   "metadata": {},
   "outputs": [
    {
     "data": {
      "text/plain": [
       "False"
      ]
     },
     "execution_count": 116,
     "metadata": {},
     "output_type": "execute_result"
    }
   ],
   "source": [
    "m.isspace()"
   ]
  },
  {
   "cell_type": "code",
   "execution_count": 117,
   "id": "0a38daa9",
   "metadata": {},
   "outputs": [],
   "source": [
    "m='    '"
   ]
  },
  {
   "cell_type": "code",
   "execution_count": 118,
   "id": "8d55b440",
   "metadata": {},
   "outputs": [
    {
     "data": {
      "text/plain": [
       "True"
      ]
     },
     "execution_count": 118,
     "metadata": {},
     "output_type": "execute_result"
    }
   ],
   "source": [
    "m.isspace()"
   ]
  },
  {
   "cell_type": "code",
   "execution_count": 120,
   "id": "7137f755",
   "metadata": {},
   "outputs": [],
   "source": [
    "m=' hi all'"
   ]
  },
  {
   "cell_type": "code",
   "execution_count": 121,
   "id": "3d30e220",
   "metadata": {},
   "outputs": [
    {
     "data": {
      "text/plain": [
       "False"
      ]
     },
     "execution_count": 121,
     "metadata": {},
     "output_type": "execute_result"
    }
   ],
   "source": [
    "m.isspace()"
   ]
  },
  {
   "cell_type": "code",
   "execution_count": 123,
   "id": "d47fe179",
   "metadata": {},
   "outputs": [],
   "source": [
    "m='programming'"
   ]
  },
  {
   "cell_type": "code",
   "execution_count": 125,
   "id": "a6979d3a",
   "metadata": {},
   "outputs": [
    {
     "data": {
      "text/plain": [
       "True"
      ]
     },
     "execution_count": 125,
     "metadata": {},
     "output_type": "execute_result"
    }
   ],
   "source": [
    "m.endswith('g')"
   ]
  },
  {
   "cell_type": "code",
   "execution_count": 126,
   "id": "7f96809a",
   "metadata": {},
   "outputs": [],
   "source": [
    "m='coder '"
   ]
  },
  {
   "cell_type": "code",
   "execution_count": 127,
   "id": "b5c62290",
   "metadata": {},
   "outputs": [
    {
     "data": {
      "text/plain": [
       "False"
      ]
     },
     "execution_count": 127,
     "metadata": {},
     "output_type": "execute_result"
    }
   ],
   "source": [
    "m.endswith('g')"
   ]
  },
  {
   "cell_type": "code",
   "execution_count": 128,
   "id": "a740fd52",
   "metadata": {},
   "outputs": [
    {
     "data": {
      "text/plain": [
       "True"
      ]
     },
     "execution_count": 128,
     "metadata": {},
     "output_type": "execute_result"
    }
   ],
   "source": [
    "m.endswith(' ')"
   ]
  },
  {
   "cell_type": "code",
   "execution_count": 130,
   "id": "2940e45d",
   "metadata": {},
   "outputs": [
    {
     "data": {
      "text/plain": [
       "True"
      ]
     },
     "execution_count": 130,
     "metadata": {},
     "output_type": "execute_result"
    }
   ],
   "source": [
    "m.startswith('c')"
   ]
  },
  {
   "cell_type": "code",
   "execution_count": 131,
   "id": "8861b274",
   "metadata": {},
   "outputs": [],
   "source": [
    "m='Python is widely used langauge in data-science.'"
   ]
  },
  {
   "cell_type": "code",
   "execution_count": 132,
   "id": "435f2204",
   "metadata": {},
   "outputs": [
    {
     "data": {
      "text/plain": [
       "False"
      ]
     },
     "execution_count": 132,
     "metadata": {},
     "output_type": "execute_result"
    }
   ],
   "source": [
    "m.istitle()"
   ]
  },
  {
   "cell_type": "markdown",
   "id": "75770a63",
   "metadata": {},
   "source": [
    "### format()"
   ]
  },
  {
   "cell_type": "code",
   "execution_count": 135,
   "id": "c370ae7f",
   "metadata": {},
   "outputs": [
    {
     "data": {
      "text/plain": [
       "'Hello, I am pursuing Data-science course.'"
      ]
     },
     "execution_count": 135,
     "metadata": {},
     "output_type": "execute_result"
    }
   ],
   "source": [
    "\"{}, I am pursuing {} course.\".format('Hello', 'Data-science')"
   ]
  },
  {
   "cell_type": "markdown",
   "id": "d28e5f6e",
   "metadata": {},
   "source": [
    "### input()"
   ]
  },
  {
   "cell_type": "code",
   "execution_count": 139,
   "id": "bc6ee152",
   "metadata": {},
   "outputs": [
    {
     "name": "stdout",
     "output_type": "stream",
     "text": [
      "jenny\n",
      "24\n",
      "My name is jenny and my age is 24\n"
     ]
    }
   ],
   "source": [
    "name=input()\n",
    "age=int(input())\n",
    "print(\"My name is {} and my age is {}\".format(name, age))"
   ]
  },
  {
   "cell_type": "markdown",
   "id": "426b5f94",
   "metadata": {},
   "source": [
    "**<<<<<<<<<<<<<<<<<<<<<<<<<<<<<<<<<<< END OF DOCUMENT >>>>>>>>>>>>>>>>>>>>>>>>>>>>>>>>>>>>>>>>>>>>**"
   ]
  }
 ],
 "metadata": {
  "kernelspec": {
   "display_name": "Python 3 (ipykernel)",
   "language": "python",
   "name": "python3"
  },
  "language_info": {
   "codemirror_mode": {
    "name": "ipython",
    "version": 3
   },
   "file_extension": ".py",
   "mimetype": "text/x-python",
   "name": "python",
   "nbconvert_exporter": "python",
   "pygments_lexer": "ipython3",
   "version": "3.9.13"
  }
 },
 "nbformat": 4,
 "nbformat_minor": 5
}
