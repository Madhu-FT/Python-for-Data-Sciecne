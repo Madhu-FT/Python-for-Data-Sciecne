{
 "cells": [
  {
   "cell_type": "markdown",
   "id": "e3cb6f73",
   "metadata": {},
   "source": [
    "\n",
    "\n",
    "___\n",
    "\n",
    "<a href='https://fingertips.co.in/'><img src='ft_logo_new.png'/></a>\n",
    "___\n",
    "<center><em>Content Copyright by Fingertips Data Intelligence Solutions</em></center>"
   ]
  },
  {
   "cell_type": "markdown",
   "id": "a5db3ba2",
   "metadata": {},
   "source": [
    "# Break & Continue Statements in Python"
   ]
  },
  {
   "cell_type": "code",
   "execution_count": 11,
   "id": "bbc8099b",
   "metadata": {},
   "outputs": [],
   "source": [
    "b = 'Break & Continue statements'"
   ]
  },
  {
   "cell_type": "markdown",
   "id": "abc0dae6",
   "metadata": {},
   "source": [
    "#### break\n",
    "comes out of the loop"
   ]
  },
  {
   "cell_type": "code",
   "execution_count": 12,
   "id": "f04cb53c",
   "metadata": {},
   "outputs": [
    {
     "name": "stdout",
     "output_type": "stream",
     "text": [
      "B\n",
      "r\n",
      "e\n"
     ]
    }
   ],
   "source": [
    "#if 'for loop' is not exhausted completely, in that case 'else' won't be executed\n",
    "\n",
    "for i in b:\n",
    "    if(i=='a'):\n",
    "        break\n",
    "    print(i)\n",
    "else:\n",
    "    print('For loop is exhausted completely')\n"
   ]
  },
  {
   "cell_type": "markdown",
   "id": "58de4b6f",
   "metadata": {},
   "source": [
    "#### continue\n",
    "whatever is written after continue won't get executed and the control will be redirected to loop"
   ]
  },
  {
   "cell_type": "code",
   "execution_count": 13,
   "id": "27b2eb4e",
   "metadata": {},
   "outputs": [
    {
     "name": "stdout",
     "output_type": "stream",
     "text": [
      "B\n",
      "r\n",
      "e\n",
      "k\n",
      " \n",
      "&\n",
      " \n",
      "C\n",
      "o\n",
      "n\n",
      "t\n",
      "i\n",
      "n\n",
      "u\n",
      "e\n",
      " \n",
      "s\n",
      "t\n",
      "t\n",
      "e\n",
      "m\n",
      "e\n",
      "n\n",
      "t\n",
      "s\n",
      "\n",
      "For loop is exhausted completely\n"
     ]
    }
   ],
   "source": [
    "for i in b:\n",
    "    if(i=='a'):   \n",
    "        continue\n",
    "    print(i)\n",
    "else:\n",
    "    print('\\nFor loop is exhausted completely')"
   ]
  },
  {
   "cell_type": "markdown",
   "id": "badac18b",
   "metadata": {},
   "source": [
    "### range()"
   ]
  },
  {
   "cell_type": "code",
   "execution_count": 14,
   "id": "90f0b044",
   "metadata": {},
   "outputs": [],
   "source": [
    "c=len(b)"
   ]
  },
  {
   "cell_type": "code",
   "execution_count": 15,
   "id": "06921d79",
   "metadata": {
    "scrolled": true
   },
   "outputs": [
    {
     "data": {
      "text/plain": [
       "27"
      ]
     },
     "execution_count": 15,
     "metadata": {},
     "output_type": "execute_result"
    }
   ],
   "source": [
    "c"
   ]
  },
  {
   "cell_type": "code",
   "execution_count": 16,
   "id": "e0325b1a",
   "metadata": {},
   "outputs": [
    {
     "name": "stdout",
     "output_type": "stream",
     "text": [
      "range(0, 27)\n"
     ]
    }
   ],
   "source": [
    "print(range(c))"
   ]
  },
  {
   "cell_type": "code",
   "execution_count": 9,
   "id": "bdb515e3",
   "metadata": {},
   "outputs": [
    {
     "name": "stdout",
     "output_type": "stream",
     "text": [
      "programmig i pytho\n"
     ]
    }
   ],
   "source": [
    "b='programming in python'\n",
    "s=\"\"\n",
    "for i in range(len(b)):\n",
    "    if(b[i]=='n'):\n",
    "        continue\n",
    "    else:\n",
    "        s=s+b[i]\n",
    "print(s)"
   ]
  },
  {
   "cell_type": "markdown",
   "id": "adaf980f",
   "metadata": {},
   "source": [
    "**<<<<<<<<<<<<<<<<<<<<<<<<<<<<<<<<<<<<<<<< END OF DOCUMENT >>>>>>>>>>>>>>>>>>>>>>>>>>>>>>>>>>>>>>>>>>>>>**"
   ]
  }
 ],
 "metadata": {
  "kernelspec": {
   "display_name": "Python 3 (ipykernel)",
   "language": "python",
   "name": "python3"
  },
  "language_info": {
   "codemirror_mode": {
    "name": "ipython",
    "version": 3
   },
   "file_extension": ".py",
   "mimetype": "text/x-python",
   "name": "python",
   "nbconvert_exporter": "python",
   "pygments_lexer": "ipython3",
   "version": "3.9.13"
  }
 },
 "nbformat": 4,
 "nbformat_minor": 5
}
