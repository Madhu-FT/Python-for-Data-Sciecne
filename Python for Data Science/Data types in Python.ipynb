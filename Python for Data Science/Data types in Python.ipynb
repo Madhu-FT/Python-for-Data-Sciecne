{
 "cells": [
  {
   "cell_type": "markdown",
   "id": "3663bc66",
   "metadata": {},
   "source": [
    "\n",
    "\n",
    "___\n",
    "\n",
    "<a href='https://fingertips.co.in/'><img src='ft_logo_new.png'/></a>\n",
    "___\n",
    "<center><em>Content Copyright by Fingertips Data Intelligence Solutions</em></center>"
   ]
  },
  {
   "cell_type": "markdown",
   "id": "cd69cd67",
   "metadata": {},
   "source": [
    "# Data Types  "
   ]
  },
  {
   "cell_type": "markdown",
   "id": "3ff83310",
   "metadata": {},
   "source": [
    "## Agenda!\n",
    "1. numeric\n",
    "2. boolean\n",
    "3. string"
   ]
  },
  {
   "cell_type": "markdown",
   "id": "56f07ef2",
   "metadata": {},
   "source": [
    "### Numeric\n",
    "A numeric value is any representation of data which has a numeric value.\n",
    "1. Integer\n",
    "2. Float\n",
    "3. Complex"
   ]
  },
  {
   "cell_type": "markdown",
   "id": "460517b4",
   "metadata": {},
   "source": [
    "#### Integer "
   ]
  },
  {
   "cell_type": "code",
   "execution_count": 35,
   "id": "3ef6bf09",
   "metadata": {},
   "outputs": [
    {
     "name": "stdout",
     "output_type": "stream",
     "text": [
      "value=10\n",
      "type=<class 'int'>\n",
      "size=28\n",
      "Is Integer? - True\n"
     ]
    }
   ],
   "source": [
    "#INTEGER\n",
    "int_val = 10\n",
    "\n",
    "print(f'value={int_val}\\ntype={type(int_val)}\\nsize={sys.getsizeof(int_val)}\\nIs Integer? - {isinstance(int_val, int)}')\n",
    "#type() - type of object\n",
    "#sys.getsizeof() - size of integer object in bytes\n",
    "#isinstance(int_val, int) - int_val is an instance of integer class?(True/False)"
   ]
  },
  {
   "cell_type": "markdown",
   "id": "f2742fd9",
   "metadata": {},
   "source": [
    "#### Float "
   ]
  },
  {
   "cell_type": "code",
   "execution_count": 36,
   "id": "76203eca",
   "metadata": {},
   "outputs": [
    {
     "name": "stdout",
     "output_type": "stream",
     "text": [
      "value=89.67\n",
      "type=<class 'float'>\n",
      "size=24\n",
      "Is Float? - True\n"
     ]
    }
   ],
   "source": [
    "#FLOAT\n",
    "float_val = 89.67\n",
    "\n",
    "print(f'value={float_val}\\ntype={type(float_val)}\\nsize={sys.getsizeof(float_val)}\\nIs Float? - {isinstance(float_val, float)}')\n",
    "#type() - type of object\n",
    "#sys.getsizeof() - size of float object in bytes\n",
    "#isinstance(float_val, int) - float_val is an instance of float class?(True/False)"
   ]
  },
  {
   "cell_type": "markdown",
   "id": "13a298fc",
   "metadata": {},
   "source": [
    "#### Complex "
   ]
  },
  {
   "cell_type": "code",
   "execution_count": 37,
   "id": "3e6d5f45",
   "metadata": {},
   "outputs": [
    {
     "name": "stdout",
     "output_type": "stream",
     "text": [
      "value=(55+44j)\n",
      "type=<class 'complex'>\n",
      "size=32\n",
      "Is Complex? - True\n"
     ]
    }
   ],
   "source": [
    "#COMPLEX\n",
    "complex_val = 55+44j\n",
    "\n",
    "print(f'value={complex_val}\\ntype={type(complex_val)}\\nsize={sys.getsizeof(complex_val)}\\nIs Complex? - {isinstance(complex_val, complex)}')\n",
    "#type() - type of object\n",
    "#sys.getsizeof() - size of complex object in bytes\n",
    "#isinstance(complex_val, int) - complex_val is an instance of complex class?(True/False)"
   ]
  },
  {
   "cell_type": "markdown",
   "id": "2fdc0252",
   "metadata": {},
   "source": [
    "### Boolean\n",
    "Boolean data type can have only two possible values true or false."
   ]
  },
  {
   "cell_type": "code",
   "execution_count": 38,
   "id": "85b24af1",
   "metadata": {},
   "outputs": [
    {
     "name": "stdout",
     "output_type": "stream",
     "text": [
      "True False\n",
      "<class 'bool'> <class 'bool'>\n"
     ]
    }
   ],
   "source": [
    "bool1, bool2 = True, False\n",
    "print(bool1, bool2)\n",
    "print(type(bool1), type(bool2))"
   ]
  },
  {
   "cell_type": "markdown",
   "id": "e04915d5",
   "metadata": {},
   "source": [
    "### Strings\n",
    "String literals in python are surrounded by either single quotation marks, or double quotation marks."
   ]
  },
  {
   "cell_type": "code",
   "execution_count": 1,
   "id": "a7bc231b",
   "metadata": {},
   "outputs": [
    {
     "name": "stdout",
     "output_type": "stream",
     "text": [
      "Hello World\n",
      "Hello! & welcome to this tutorial on data-types in Python.\n",
      "Hello\n",
      "           World \n"
     ]
    }
   ],
   "source": [
    "str1 = 'Hello World' # Define string using single quotes\n",
    "str2 = \"Hello! & welcome to this tutorial on data-types in Python.\" # Define string using double quotes\n",
    "str3 = '''Hello\n",
    "           World ''' # Define string using triple quotes\n",
    "\n",
    "print(f'{str1}\\n{str2}\\n{str3}')"
   ]
  },
  {
   "cell_type": "markdown",
   "id": "40df6429",
   "metadata": {},
   "source": [
    "We will learn strings in very detail."
   ]
  },
  {
   "cell_type": "markdown",
   "id": "8cd480d0",
   "metadata": {},
   "source": [
    "**<<<<<<<<<<<<<<<<<<<<<<<<<<<<<<<<<< END OF DOCUMENT >>>>>>>>>>>>>>>>>>>>>>>>>>>>>>>>>>>>>>**"
   ]
  }
 ],
 "metadata": {
  "kernelspec": {
   "display_name": "Python 3 (ipykernel)",
   "language": "python",
   "name": "python3"
  },
  "language_info": {
   "codemirror_mode": {
    "name": "ipython",
    "version": 3
   },
   "file_extension": ".py",
   "mimetype": "text/x-python",
   "name": "python",
   "nbconvert_exporter": "python",
   "pygments_lexer": "ipython3",
   "version": "3.9.13"
  }
 },
 "nbformat": 4,
 "nbformat_minor": 5
}
